{
 "cells": [
  {
   "cell_type": "code",
   "execution_count": 1,
   "id": "ef70e29a-b276-482a-bf8a-bac47e3fcfe8",
   "metadata": {},
   "outputs": [],
   "source": [
    "import networkx as nx\n",
    "import pandas as pd\n",
    "import numpy as np\n",
    "import time\n",
    "import os"
   ]
  },
  {
   "cell_type": "code",
   "execution_count": 2,
   "id": "caf0c0ca-322e-4007-8495-466a41bec417",
   "metadata": {},
   "outputs": [],
   "source": [
    "network_file_path = \"./data/network/CancerSubnetwork.txt\"\n",
    "matrix_path = \"./data/raw/miss/kirp_sm_miss251_csn.csv\""
   ]
  },
  {
   "cell_type": "code",
   "execution_count": 3,
   "id": "3bbd14a4-70a4-4b54-a2fc-4f4934506249",
   "metadata": {},
   "outputs": [],
   "source": [
    "matrix= pd.read_csv(matrix_path, index_col=0)\n",
    "network = nx.read_adjlist(network_file_path, create_using=nx.Graph)"
   ]
  },
  {
   "cell_type": "code",
   "execution_count": 4,
   "id": "6e636e86-e59b-4eef-9b4f-a0fb2d9a6613",
   "metadata": {},
   "outputs": [],
   "source": [
    "# matrix"
   ]
  },
  {
   "cell_type": "code",
   "execution_count": 5,
   "id": "a50cf410-fd5c-4968-a4a4-5a573e792b91",
   "metadata": {},
   "outputs": [],
   "source": [
    "save_file_path = \"./data/netprop/miss/\"\n",
    "isExist = os.path.exists(save_file_path)\n",
    "if not isExist:\n",
    "    os.makedirs(save_file_path)\n",
    "save_file_path += \"kirp_sm_miss251_csn_propagated.csv\""
   ]
  },
  {
   "cell_type": "code",
   "execution_count": 6,
   "id": "475acbd9-079d-4d88-924f-58133eda1e26",
   "metadata": {},
   "outputs": [],
   "source": [
    "def normalize_network(network, symmetric_norm=False):\n",
    "    adj_mat = nx.adjacency_matrix(network)\n",
    "    adj_array = np.array(adj_mat.todense())\n",
    "    if symmetric_norm:\n",
    "        D = np.diag(1/np.sqrt(sum(adj_array)))\n",
    "        adj_array_norm = np.dot(np.dot(D, adj_array), D)\n",
    "    else:\n",
    "        degree = sum(adj_array)\n",
    "        adj_array_norm = (adj_array*1.0/degree).T\n",
    "    return adj_array_norm"
   ]
  },
  {
   "cell_type": "code",
   "execution_count": 7,
   "id": "9cdab291-3e26-48cf-8f10-fc729664c222",
   "metadata": {},
   "outputs": [],
   "source": [
    "def fast_random_walk(alpha, binary_mat, subgraph_norm, prop_data_prev):\n",
    "    term1 = (1-alpha)*binary_mat\n",
    "    # print(subgraph_norm)\n",
    "    term2 = np.identity(binary_mat.shape[1])-alpha*subgraph_norm\n",
    "    term2_inv = np.linalg.inv(term2)\n",
    "    subgraph_prop = np.dot(term1, term2_inv)\n",
    "    prop_data_add = np.concatenate((prop_data_prev, subgraph_prop), axis=1)\n",
    "    return prop_data_add"
   ]
  },
  {
   "cell_type": "code",
   "execution_count": 8,
   "id": "1691750b-502d-4be9-b88b-34cce7a5bf5a",
   "metadata": {},
   "outputs": [],
   "source": [
    "def network_propagation(network, binary_matrix, alpha=0.7, symmetric_norm=False, verbose=True):\n",
    "\n",
    "    # Begin network propagation\n",
    "    starttime = time.time()\n",
    "    if verbose:\n",
    "        print('Performing network propagation with alpha:', alpha)\n",
    "    # Separate network into connected components and calculate propagation values of each sub-sample on each connected component\n",
    "    subgraphs = list(network.subgraph(c) for c in nx.connected_components(network))\n",
    "    # Initialize propagation results by propagating first subgraph\n",
    "    subgraph = subgraphs[0]\n",
    "    subgraph_nodes = list(subgraph.nodes)\n",
    "    prop_data_node_order = list(subgraph_nodes)\n",
    "    binary_matrix_filt = np.array(binary_matrix.T.loc[subgraph_nodes].fillna(0).T)\n",
    "    subgraph_norm = normalize_network(subgraph, symmetric_norm=symmetric_norm)\n",
    "    prop_data_empty = np.zeros((binary_matrix_filt.shape[0], 1))\n",
    "    prop_data = fast_random_walk(alpha, binary_matrix_filt, subgraph_norm, prop_data_empty)\n",
    "    # Get propagated results for remaining subgraphs\n",
    "    for subgraph in subgraphs[1:]:\n",
    "        subgraph_nodes = list(subgraph.nodes)\n",
    "        prop_data_node_order = prop_data_node_order + subgraph_nodes\n",
    "        binary_matrix_filt = np.array(binary_matrix.T.loc[subgraph_nodes].fillna(0).T)\n",
    "        subgraph_norm = normalize_network(subgraph, symmetric_norm=symmetric_norm)\n",
    "        prop_data = fast_random_walk(alpha, binary_matrix_filt, subgraph_norm, prop_data)\n",
    "    # Return propagated result as dataframe\n",
    "    prop_data_df = pd.DataFrame(data=prop_data[:, 1:], index=binary_matrix.index, columns=prop_data_node_order)\n",
    "    if verbose:\n",
    "        print('Network Propagation Complete:', time.time()-starttime, 'seconds')\n",
    "    return prop_data_df"
   ]
  },
  {
   "cell_type": "code",
   "execution_count": 9,
   "id": "69634ac9-b57f-4a20-a47e-5ff1f0f1d7f9",
   "metadata": {},
   "outputs": [
    {
     "name": "stdout",
     "output_type": "stream",
     "text": [
      "Performing network propagation with alpha: 0.7\n"
     ]
    },
    {
     "name": "stderr",
     "output_type": "stream",
     "text": [
      "/tmp/ipykernel_3769463/1137428807.py:2: FutureWarning: adjacency_matrix will return a scipy.sparse array instead of a matrix in Networkx 3.0.\n",
      "  adj_mat = nx.adjacency_matrix(network)\n"
     ]
    },
    {
     "name": "stdout",
     "output_type": "stream",
     "text": [
      "Network Propagation Complete: 2.672335624694824 seconds\n"
     ]
    }
   ],
   "source": [
    "propagated_matrix = network_propagation(network, matrix)"
   ]
  },
  {
   "cell_type": "code",
   "execution_count": 10,
   "id": "b9c29763-7291-48c2-9886-2555b6fe350b",
   "metadata": {},
   "outputs": [],
   "source": [
    "propagated_matrix.to_csv(save_file_path)"
   ]
  },
  {
   "cell_type": "code",
   "execution_count": null,
   "id": "cf769da0-6035-4119-b353-feae6c2671e3",
   "metadata": {},
   "outputs": [],
   "source": []
  }
 ],
 "metadata": {
  "kernelspec": {
   "display_name": "Python 3 (ipykernel)",
   "language": "python",
   "name": "python3"
  },
  "language_info": {
   "codemirror_mode": {
    "name": "ipython",
    "version": 3
   },
   "file_extension": ".py",
   "mimetype": "text/x-python",
   "name": "python",
   "nbconvert_exporter": "python",
   "pygments_lexer": "ipython3",
   "version": "3.9.12"
  }
 },
 "nbformat": 4,
 "nbformat_minor": 5
}
