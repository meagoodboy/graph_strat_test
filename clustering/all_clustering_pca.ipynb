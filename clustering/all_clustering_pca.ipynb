{
 "cells": [
  {
   "cell_type": "code",
   "execution_count": 1,
   "metadata": {},
   "outputs": [],
   "source": [
    "import matplotlib.pyplot as plt\n",
    "from kneed import KneeLocator\n",
    "from sklearn.datasets import make_blobs\n",
    "from sklearn.cluster import KMeans\n",
    "from sklearn.metrics import silhouette_score\n",
    "from sklearn.preprocessing import StandardScaler\n",
    "import pandas as pd\n",
    "import matplotlib\n",
    "from matplotlib import pyplot\n",
    "import gower\n",
    "from sklearn.decomposition import PCA\n",
    "from sklearn.manifold import TSNE\n",
    "from numpy import unique\n",
    "from numpy import where\n",
    "from sklearn.cluster import *\n",
    "from survival_plot import cluster_KMplot\n",
    "from sklearn_extra.cluster import KMedoids, CommonNNClustering\n",
    "import numpy as np\n",
    "from sklearn.mixture import GaussianMixture\n",
    "matplotlib.use('TkAgg')"
   ]
  },
  {
   "cell_type": "code",
   "execution_count": 2,
   "metadata": {},
   "outputs": [],
   "source": [
    "surv_file = \"../../survival_KIRP.csv\"\n",
    "encoding = \"../data/raw/sm/kirp_sm251.csv\""
   ]
  },
  {
   "cell_type": "code",
   "execution_count": null,
   "metadata": {},
   "outputs": [],
   "source": [
    "enc = pd.read_csv(encoding, index_col=0).fillna(0)\n",
    "cols = enc.columns\n",
    "for col in cols:\n",
    "    enc[col] = enc[col].astype(float)"
   ]
  },
  {
   "cell_type": "code",
   "execution_count": null,
   "metadata": {},
   "outputs": [],
   "source": [
    "enc"
   ]
  },
  {
   "cell_type": "code",
   "execution_count": null,
   "metadata": {},
   "outputs": [],
   "source": [
    "pca_reducer = PCA(n_components=2)\n",
    "X2 = pca_reducer.fit_transform(enc)\n",
    "plt.scatter(X2[:,0], X2[:,1])\n",
    "plt.show()\n",
    "tsne_reducer = TSNE(2, learning_rate='auto', init='random')\n",
    "X3 = tsne_reducer.fit_transform(enc)\n",
    "plt.scatter(X3[:,0], X3[:,1])\n",
    "plt.show()"
   ]
  },
  {
   "cell_type": "code",
   "execution_count": null,
   "metadata": {},
   "outputs": [],
   "source": [
    "plt.scatter(enc.iloc[:,0], enc.iloc[:,1])\n",
    "plt.show()\n",
    "gow = gower.gower_matrix(enc)\n",
    "plt.scatter(gow[:,0], gow[:,1])\n",
    "plt.show()"
   ]
  },
  {
   "cell_type": "markdown",
   "metadata": {},
   "source": [
    "## Kmeans"
   ]
  },
  {
   "cell_type": "code",
   "execution_count": null,
   "metadata": {},
   "outputs": [],
   "source": [
    "X = np.array(enc)\n",
    "# dist = gower.gower_matrix(enc)\n",
    "# X = dist\n",
    "print(X.shape)\n",
    "model = KMeans(n_clusters=2)\n",
    "yhat = model.fit_predict(X)\n",
    "pred = pd.DataFrame(yhat,index =enc.index) \n",
    "clusters = unique(yhat)\n",
    "for cluster in clusters:\n",
    "    row_ix = where(yhat == cluster)\n",
    "    pyplot.scatter(X2[row_ix, 0], X2[row_ix, 1])\n",
    "pyplot.show()\n",
    "for cluster in clusters:\n",
    "    row_ix = where(yhat == cluster)\n",
    "    pyplot.scatter(X3[row_ix, 0], X3[row_ix, 1])\n",
    "pyplot.show()"
   ]
  },
  {
   "cell_type": "code",
   "execution_count": null,
   "metadata": {},
   "outputs": [],
   "source": [
    "sse = []\n",
    "for k in range(2, 7):\n",
    "    kmeans = KMeans(n_clusters=k)\n",
    "    kmeans.fit(enc)\n",
    "    sse.append(kmeans.inertia_)\n",
    "    print(kmeans.inertia_)\n",
    "\n",
    "plt.plot(range(2, 7), sse)\n",
    "plt.xticks(range(2, 7))\n",
    "plt.xlabel(\"Number of Clusters\")\n",
    "plt.ylabel(\"SSE\")\n",
    "plt.show()\n",
    "\n",
    "kl = KneeLocator(range(2, 7), sse, curve=\"convex\", direction=\"decreasing\")\n",
    "kl.elbow"
   ]
  },
  {
   "cell_type": "code",
   "execution_count": null,
   "metadata": {},
   "outputs": [],
   "source": [
    "silhouette_coefficients = []\n",
    "for k in range(2, 7):\n",
    "    kmeans = KMeans(n_clusters=k)\n",
    "    kmeans.fit(enc)\n",
    "    score = silhouette_score(enc, kmeans.labels_)\n",
    "    silhouette_coefficients.append(score)\n",
    "    print(score)\n",
    "    \n",
    "\n",
    "plt.plot(range(2, 7), silhouette_coefficients)\n",
    "plt.xticks(range(2, 7))\n",
    "plt.xlabel(\"Number of Clusters\")\n",
    "plt.ylabel(\"Silhouette Coefficient\")\n",
    "plt.show()"
   ]
  },
  {
   "cell_type": "code",
   "execution_count": null,
   "metadata": {},
   "outputs": [],
   "source": [
    "pval = []\n",
    "for i in range(2,7):\n",
    "    kmeans = KMeans(n_clusters=i)\n",
    "    kmeans.fit(enc)\n",
    "    pred = pd.DataFrame(kmeans.labels_,index =enc.index) \n",
    "    cluster_assign = pd.DataFrame([enc.index,kmeans.labels_]).T\n",
    "    cluster_assign.columns = [\"patient\", \"subtype\"]\n",
    "    cluster_assign = cluster_assign.drop_duplicates(subset=[\"patient\"], keep=\"first\")\n",
    "    # print(cluster_assign)\n",
    "    cluster_assign=cluster_assign.set_index(\"patient\")\n",
    "    clust_asgn = cluster_assign.subtype\n",
    "    pval.append(cluster_KMplot(clust_asgn, surv_file, delimiter=','))\n",
    "for i in pval:\n",
    "    print(i)"
   ]
  },
  {
   "cell_type": "markdown",
   "metadata": {},
   "source": [
    "## PAM clustering"
   ]
  },
  {
   "cell_type": "code",
   "execution_count": null,
   "metadata": {},
   "outputs": [],
   "source": [
    "dist = gower.gower_matrix(enc)"
   ]
  },
  {
   "cell_type": "code",
   "execution_count": null,
   "metadata": {},
   "outputs": [],
   "source": [
    "X = dist\n",
    "print(X.shape)\n",
    "model = KMedoids(n_clusters=2,init='k-medoids++')\n",
    "yhat = model.fit_predict(X)\n",
    "pred = pd.DataFrame(yhat,index =enc.index) \n",
    "clusters = unique(yhat)\n",
    "for cluster in clusters:\n",
    "    row_ix = where(yhat == cluster)\n",
    "    pyplot.scatter(X2[row_ix, 0], X2[row_ix, 1])\n",
    "pyplot.show()\n",
    "for cluster in clusters:\n",
    "    row_ix = where(yhat == cluster)\n",
    "    pyplot.scatter(X3[row_ix, 0], X3[row_ix, 1])\n",
    "pyplot.show()"
   ]
  },
  {
   "cell_type": "code",
   "execution_count": null,
   "metadata": {},
   "outputs": [],
   "source": [
    "silhouette_coefficients = []\n",
    "sse = []\n",
    "for k in range(2, 7):\n",
    "    pam = KMedoids(n_clusters=k,init='k-medoids++')\n",
    "    pam.fit(dist)\n",
    "    score = silhouette_score(dist, pam.labels_)\n",
    "    silhouette_coefficients.append(score)\n",
    "    sse.append(kmeans.inertia_)\n",
    "    print(score)\n",
    "\n",
    "for i in sse:\n",
    "    print(i)\n",
    "\n",
    "plt.plot(range(2, 7), sse)\n",
    "plt.xticks(range(2, 7))\n",
    "plt.xlabel(\"Number of Clusters\")\n",
    "plt.ylabel(\"WCSS\")\n",
    "plt.show()"
   ]
  },
  {
   "cell_type": "code",
   "execution_count": null,
   "metadata": {},
   "outputs": [],
   "source": [
    "plt.plot(range(2, 7), silhouette_coefficients)\n",
    "plt.xticks(range(2, 7))\n",
    "plt.xlabel(\"Number of Clusters\")\n",
    "plt.ylabel(\"Silhouette Coefficient\")\n",
    "plt.show()"
   ]
  },
  {
   "cell_type": "code",
   "execution_count": null,
   "metadata": {},
   "outputs": [],
   "source": [
    "pval = []\n",
    "for i in range(2,7):\n",
    "    dist = gower.gower_matrix(enc)\n",
    "    pam = KMedoids(n_clusters=i, init='k-medoids++')\n",
    "    pam.fit(dist)\n",
    "    pred = pd.DataFrame(pam.labels_,index =enc.index) \n",
    "    cluster_assign = pd.DataFrame([enc.index,pam.labels_]).T\n",
    "    cluster_assign.columns = [\"patient\", \"subtype\"]\n",
    "    cluster_assign = cluster_assign.drop_duplicates(subset=[\"patient\"], keep=\"first\")\n",
    "    # print(cluster_assign)\n",
    "    cluster_assign=cluster_assign.set_index(\"patient\")\n",
    "    clust_asgn = cluster_assign.subtype\n",
    "    pval.append(cluster_KMplot(clust_asgn, surv_file, delimiter=','))\n",
    "for i in pval:\n",
    "    print(i)"
   ]
  },
  {
   "cell_type": "markdown",
   "metadata": {},
   "source": [
    "## CommonNN "
   ]
  },
  {
   "cell_type": "code",
   "execution_count": null,
   "metadata": {},
   "outputs": [],
   "source": [
    "clustering = CommonNNClustering(eps=0.005, min_samples=0)\n",
    "clustering.fit(enc)"
   ]
  },
  {
   "cell_type": "code",
   "execution_count": null,
   "metadata": {},
   "outputs": [],
   "source": [
    "cluster_assign = pd.DataFrame([enc.index,clustering.labels_]).T\n",
    "cluster_assign.columns = [\"patient\", \"subtype\"]\n",
    "cluster_assign = cluster_assign.drop_duplicates(subset=[\"patient\"], keep=\"first\")\n",
    "cluster_assign=cluster_assign.set_index(\"patient\")\n",
    "clust_asgn = cluster_assign.subtype\n",
    "cluster_KMplot(clust_asgn, surv_file, delimiter=',')"
   ]
  },
  {
   "cell_type": "markdown",
   "metadata": {},
   "source": [
    "## Affinitypropagation"
   ]
  },
  {
   "cell_type": "code",
   "execution_count": null,
   "metadata": {},
   "outputs": [],
   "source": [
    "dist = gower.gower_matrix(enc)\n",
    "X = dist\n",
    "print(X.shape)\n",
    "model = AffinityPropagation(damping=0.9)\n",
    "model.fit(X)\n",
    "yhat = model.predict(X)\n",
    "pred = pd.DataFrame(yhat,index =enc.index) \n",
    "clusters = unique(yhat)\n",
    "for cluster in clusters:\n",
    "    row_ix = where(yhat == cluster)\n",
    "    pyplot.scatter(X[row_ix, 0], X[row_ix, 1])\n",
    "pyplot.show()\n",
    "\n",
    "\n",
    "cluster_assign = pd.DataFrame([enc.index,model.labels_]).T\n",
    "cluster_assign.columns = [\"patient\", \"subtype\"]\n",
    "cluster_assign = cluster_assign.drop_duplicates(subset=[\"patient\"], keep=\"first\")\n",
    "cluster_assign=cluster_assign.set_index(\"patient\")\n",
    "clust_asgn = cluster_assign.subtype\n",
    "cluster_KMplot(clust_asgn, surv_file, delimiter=',')"
   ]
  },
  {
   "cell_type": "markdown",
   "metadata": {},
   "source": [
    "## Agglomerative clustering"
   ]
  },
  {
   "cell_type": "code",
   "execution_count": null,
   "metadata": {},
   "outputs": [],
   "source": [
    "X = np.array(enc)\n",
    "# dist = gower.gower_matrix(enc)\n",
    "# X = dist\n",
    "print(X.shape)\n",
    "model = AgglomerativeClustering(n_clusters=2)\n",
    "yhat = model.fit_predict(X)\n",
    "pred = pd.DataFrame(yhat,index =enc.index) \n",
    "clusters = unique(yhat)\n",
    "for cluster in clusters:\n",
    "    row_ix = where(yhat == cluster)\n",
    "    pyplot.scatter(X2[row_ix, 0], X2[row_ix, 1])\n",
    "pyplot.show()\n",
    "for cluster in clusters:\n",
    "    row_ix = where(yhat == cluster)\n",
    "    pyplot.scatter(X3[row_ix, 0], X3[row_ix, 1])\n",
    "pyplot.show()\n",
    "\n",
    "\n",
    "cluster_assign = pd.DataFrame([enc.index,model.labels_]).T\n",
    "cluster_assign.columns = [\"patient\", \"subtype\"]\n",
    "cluster_assign = cluster_assign.drop_duplicates(subset=[\"patient\"], keep=\"first\")\n",
    "cluster_assign=cluster_assign.set_index(\"patient\")\n",
    "clust_asgn = cluster_assign.subtype\n",
    "cluster_KMplot(clust_asgn, surv_file, delimiter=',')"
   ]
  },
  {
   "cell_type": "code",
   "execution_count": null,
   "metadata": {},
   "outputs": [],
   "source": [
    "silhouette_coefficients = []\n",
    "for k in range(2, 7):\n",
    "    clust = AgglomerativeClustering(n_clusters=k)\n",
    "    clust.fit(enc)\n",
    "    score = silhouette_score(enc, clust.labels_)\n",
    "    silhouette_coefficients.append(score)\n",
    "    print(score)\n",
    "    \n",
    "\n",
    "plt.plot(range(2, 7), silhouette_coefficients)\n",
    "plt.xticks(range(2, 7))\n",
    "plt.xlabel(\"Number of Clusters\")\n",
    "plt.ylabel(\"Silhouette Coefficient\")\n",
    "plt.show()"
   ]
  },
  {
   "cell_type": "code",
   "execution_count": null,
   "metadata": {},
   "outputs": [],
   "source": [
    "pval = []\n",
    "for i in range(2,7):\n",
    "    clust = AgglomerativeClustering(n_clusters=i)\n",
    "    clust.fit(enc)\n",
    "    pred = pd.DataFrame(clust.labels_,index =enc.index) \n",
    "    cluster_assign = pd.DataFrame([enc.index,clust.labels_]).T\n",
    "    cluster_assign.columns = [\"patient\", \"subtype\"]\n",
    "    cluster_assign = cluster_assign.drop_duplicates(subset=[\"patient\"], keep=\"first\")\n",
    "    # print(cluster_assign)\n",
    "    cluster_assign=cluster_assign.set_index(\"patient\")\n",
    "    clust_asgn = cluster_assign.subtype\n",
    "    pval.append(cluster_KMplot(clust_asgn, surv_file, delimiter=','))\n",
    "for i in pval:\n",
    "    print(i)"
   ]
  },
  {
   "cell_type": "markdown",
   "metadata": {},
   "source": [
    "## BIRCH"
   ]
  },
  {
   "cell_type": "code",
   "execution_count": null,
   "metadata": {},
   "outputs": [],
   "source": [
    "# X = np.array(enc)\n",
    "dist = gower.gower_matrix(enc)\n",
    "X = dist\n",
    "print(X.shape)\n",
    "model = Birch(threshold=0.01, n_clusters=2)\n",
    "yhat = model.fit_predict(X)\n",
    "pred = pd.DataFrame(yhat,index =enc.index) \n",
    "clusters = unique(yhat)\n",
    "for cluster in clusters:\n",
    "    row_ix = where(yhat == cluster)\n",
    "    pyplot.scatter(X2[row_ix, 0], X2[row_ix, 1])\n",
    "pyplot.show()\n",
    "for cluster in clusters:\n",
    "    row_ix = where(yhat == cluster)\n",
    "    pyplot.scatter(X3[row_ix, 0], X3[row_ix, 1])\n",
    "pyplot.show()\n",
    "\n",
    "\n",
    "\n",
    "cluster_assign = pd.DataFrame([enc.index,model.labels_]).T\n",
    "cluster_assign.columns = [\"patient\", \"subtype\"]\n",
    "cluster_assign = cluster_assign.drop_duplicates(subset=[\"patient\"], keep=\"first\")\n",
    "cluster_assign=cluster_assign.set_index(\"patient\")\n",
    "clust_asgn = cluster_assign.subtype\n",
    "cluster_KMplot(clust_asgn, surv_file, delimiter=',')"
   ]
  },
  {
   "cell_type": "code",
   "execution_count": null,
   "metadata": {},
   "outputs": [],
   "source": [
    "silhouette_coefficients = []\n",
    "for k in range(2, 7):\n",
    "    clust = Birch(n_clusters=k)\n",
    "    clust.fit(dist)\n",
    "    score = silhouette_score(dist, clust.labels_)\n",
    "    silhouette_coefficients.append(score)\n",
    "    print(score)\n",
    "    \n",
    "\n",
    "plt.plot(range(2, 7), silhouette_coefficients)\n",
    "plt.xticks(range(2, 7))\n",
    "plt.xlabel(\"Number of Clusters\")\n",
    "plt.ylabel(\"Silhouette Coefficient\")\n",
    "plt.show()"
   ]
  },
  {
   "cell_type": "code",
   "execution_count": null,
   "metadata": {},
   "outputs": [],
   "source": [
    "pval = []\n",
    "for i in range(2,7):\n",
    "    clust = AgglomerativeClustering(n_clusters=i)\n",
    "    clust.fit(dist)\n",
    "    pred = pd.DataFrame(clust.labels_,index =enc.index) \n",
    "    cluster_assign = pd.DataFrame([enc.index,clust.labels_]).T\n",
    "    cluster_assign.columns = [\"patient\", \"subtype\"]\n",
    "    cluster_assign = cluster_assign.drop_duplicates(subset=[\"patient\"], keep=\"first\")\n",
    "    # print(cluster_assign)\n",
    "    cluster_assign=cluster_assign.set_index(\"patient\")\n",
    "    clust_asgn = cluster_assign.subtype\n",
    "    pval.append(cluster_KMplot(clust_asgn, surv_file, delimiter=','))\n",
    "for i in pval:\n",
    "    print(i)"
   ]
  },
  {
   "cell_type": "markdown",
   "metadata": {},
   "source": [
    "## DBscan"
   ]
  },
  {
   "cell_type": "code",
   "execution_count": null,
   "metadata": {},
   "outputs": [],
   "source": [
    "X = np.array(enc)\n",
    "# dist = gower.gower_matrix(enc)\n",
    "# X = dist\n",
    "print(X.shape)\n",
    "model = DBSCAN(eps=0.01, min_samples=10)\n",
    "yhat = model.fit_predict(X)\n",
    "pred = pd.DataFrame(yhat,index =enc.index) \n",
    "clusters = unique(yhat)\n",
    "for cluster in clusters:\n",
    "    row_ix = where(yhat == cluster)\n",
    "    pyplot.scatter(X2[row_ix, 0], X2[row_ix, 1])\n",
    "pyplot.show()\n",
    "for cluster in clusters:\n",
    "    row_ix = where(yhat == cluster)\n",
    "    pyplot.scatter(X3[row_ix, 0], X3[row_ix, 1])\n",
    "pyplot.show()\n",
    "\n",
    "\n",
    "\n",
    "cluster_assign = pd.DataFrame([enc.index,model.labels_]).T\n",
    "cluster_assign.columns = [\"patient\", \"subtype\"]\n",
    "cluster_assign = cluster_assign.drop_duplicates(subset=[\"patient\"], keep=\"first\")\n",
    "cluster_assign=cluster_assign.set_index(\"patient\")\n",
    "clust_asgn = cluster_assign.subtype\n",
    "cluster_KMplot(clust_asgn, surv_file, delimiter=',')"
   ]
  },
  {
   "cell_type": "markdown",
   "metadata": {},
   "source": [
    "## Meanshift"
   ]
  },
  {
   "cell_type": "code",
   "execution_count": null,
   "metadata": {},
   "outputs": [],
   "source": [
    "X = np.array(enc)\n",
    "# dist = gower.gower_matrix(enc)\n",
    "# X = dist\n",
    "print(X.shape)\n",
    "model = MeanShift()\n",
    "yhat = model.fit_predict(X)\n",
    "pred = pd.DataFrame(yhat,index =enc.index) \n",
    "clusters = unique(yhat)\n",
    "for cluster in clusters:\n",
    "    row_ix = where(yhat == cluster)\n",
    "    pyplot.scatter(X2[row_ix, 0], X2[row_ix, 1])\n",
    "pyplot.show()\n",
    "for cluster in clusters:\n",
    "    row_ix = where(yhat == cluster)\n",
    "    pyplot.scatter(X3[row_ix, 0], X3[row_ix, 1])\n",
    "pyplot.show()\n",
    "\n",
    "\n",
    "\n",
    "cluster_assign = pd.DataFrame([enc.index,model.labels_]).T\n",
    "cluster_assign.columns = [\"patient\", \"subtype\"]\n",
    "cluster_assign = cluster_assign.drop_duplicates(subset=[\"patient\"], keep=\"first\")\n",
    "cluster_assign=cluster_assign.set_index(\"patient\")\n",
    "clust_asgn = cluster_assign.subtype\n",
    "cluster_KMplot(clust_asgn, surv_file, delimiter=',')"
   ]
  },
  {
   "cell_type": "code",
   "execution_count": null,
   "metadata": {},
   "outputs": [],
   "source": [
    "# X = np.array(enc)\n",
    "dist = gower.gower_matrix(enc)\n",
    "X = dist\n",
    "print(X.shape)\n",
    "model = OPTICS(eps=0.8, min_samples=10)\n",
    "yhat = model.fit_predict(X)\n",
    "pred = pd.DataFrame(yhat,index =enc.index) \n",
    "clusters = unique(yhat)\n",
    "for cluster in clusters:\n",
    "    row_ix = where(yhat == cluster)\n",
    "    pyplot.scatter(X2[row_ix, 0], X2[row_ix, 1])\n",
    "pyplot.show()\n",
    "for cluster in clusters:\n",
    "    row_ix = where(yhat == cluster)\n",
    "    pyplot.scatter(X3[row_ix, 0], X3[row_ix, 1])\n",
    "pyplot.show()\n",
    "\n",
    "\n",
    "\n",
    "cluster_assign = pd.DataFrame([enc.index,model.labels_]).T\n",
    "cluster_assign.columns = [\"patient\", \"subtype\"]\n",
    "cluster_assign = cluster_assign.drop_duplicates(subset=[\"patient\"], keep=\"first\")\n",
    "cluster_assign=cluster_assign.set_index(\"patient\")\n",
    "clust_asgn = cluster_assign.subtype\n",
    "cluster_KMplot(clust_asgn, surv_file, delimiter=',')"
   ]
  },
  {
   "cell_type": "markdown",
   "metadata": {},
   "source": [
    "## Spectral Clustering"
   ]
  },
  {
   "cell_type": "code",
   "execution_count": null,
   "metadata": {},
   "outputs": [],
   "source": [
    "X = np.array(enc)\n",
    "# dist = gower.gower_matrix(enc)\n",
    "# X = dist\n",
    "print(X.shape)\n",
    "model = SpectralClustering(n_clusters=3)\n",
    "yhat = model.fit_predict(X)\n",
    "pred = pd.DataFrame(yhat,index =enc.index) \n",
    "clusters = unique(yhat)\n",
    "for cluster in clusters:\n",
    "    row_ix = where(yhat == cluster)\n",
    "    pyplot.scatter(X2[row_ix, 0], X2[row_ix, 1])\n",
    "pyplot.show()\n",
    "for cluster in clusters:\n",
    "    row_ix = where(yhat == cluster)\n",
    "    pyplot.scatter(X3[row_ix, 0], X3[row_ix, 1])\n",
    "pyplot.show()\n",
    "\n",
    "\n",
    "\n",
    "cluster_assign = pd.DataFrame([enc.index,model.labels_]).T\n",
    "cluster_assign.columns = [\"patient\", \"subtype\"]\n",
    "cluster_assign = cluster_assign.drop_duplicates(subset=[\"patient\"], keep=\"first\")\n",
    "cluster_assign=cluster_assign.set_index(\"patient\")\n",
    "clust_asgn = cluster_assign.subtype\n",
    "cluster_KMplot(clust_asgn, surv_file, delimiter=',')"
   ]
  },
  {
   "cell_type": "code",
   "execution_count": null,
   "metadata": {},
   "outputs": [],
   "source": [
    "silhouette_coefficients = []\n",
    "for k in range(2, 7):\n",
    "    clust = SpectralClustering(n_clusters=k)\n",
    "    clust.fit(enc)\n",
    "    score = silhouette_score(enc, clust.labels_)\n",
    "    silhouette_coefficients.append(score)\n",
    "    print(score)\n",
    "    \n",
    "\n",
    "plt.plot(range(2, 7), silhouette_coefficients)\n",
    "plt.xticks(range(2, 7))\n",
    "plt.xlabel(\"Number of Clusters\")\n",
    "plt.ylabel(\"Silhouette Coefficient\")\n",
    "plt.show()"
   ]
  },
  {
   "cell_type": "code",
   "execution_count": null,
   "metadata": {},
   "outputs": [],
   "source": [
    "pval = []\n",
    "for i in range(2,7):\n",
    "    clust = SpectralClustering(n_clusters=i)\n",
    "    clust.fit(enc)\n",
    "    pred = pd.DataFrame(clust.labels_,index =enc.index) \n",
    "    cluster_assign = pd.DataFrame([enc.index,clust.labels_]).T\n",
    "    cluster_assign.columns = [\"patient\", \"subtype\"]\n",
    "    cluster_assign = cluster_assign.drop_duplicates(subset=[\"patient\"], keep=\"first\")\n",
    "    # print(cluster_assign)\n",
    "    cluster_assign=cluster_assign.set_index(\"patient\")\n",
    "    clust_asgn = cluster_assign.subtype\n",
    "    pval.append(cluster_KMplot(clust_asgn, surv_file, delimiter=','))\n",
    "for i in pval:\n",
    "    print(i)"
   ]
  },
  {
   "cell_type": "markdown",
   "metadata": {},
   "source": [
    "## Gaussian Mixture"
   ]
  },
  {
   "cell_type": "code",
   "execution_count": null,
   "metadata": {},
   "outputs": [],
   "source": [
    "X = np.array(enc)\n",
    "# dist = gower.gower_matrix(enc)\n",
    "# X = dist\n",
    "print(X.shape)\n",
    "model = GaussianMixture(n_components=3)\n",
    "yhat = model.fit_predict(X)\n",
    "pred = pd.DataFrame(yhat,index =enc.index) \n",
    "clusters = unique(yhat)\n",
    "for cluster in clusters:\n",
    "    row_ix = where(yhat == cluster)\n",
    "    pyplot.scatter(X2[row_ix, 0], X2[row_ix, 1])\n",
    "pyplot.show()\n",
    "for cluster in clusters:\n",
    "    row_ix = where(yhat == cluster)\n",
    "    pyplot.scatter(X3[row_ix, 0], X3[row_ix, 1])\n",
    "pyplot.show()\n",
    "\n",
    "\n",
    "\n",
    "cluster_assign = pd.DataFrame([enc.index,yhat]).T\n",
    "cluster_assign.columns = [\"patient\", \"subtype\"]\n",
    "cluster_assign = cluster_assign.drop_duplicates(subset=[\"patient\"], keep=\"first\")\n",
    "cluster_assign=cluster_assign.set_index(\"patient\")\n",
    "clust_asgn = cluster_assign.subtype\n",
    "cluster_KMplot(clust_asgn, surv_file, delimiter=',')"
   ]
  },
  {
   "cell_type": "code",
   "execution_count": null,
   "metadata": {},
   "outputs": [],
   "source": [
    "silhouette_coefficients = []\n",
    "for k in range(2, 7):\n",
    "    clust = GaussianMixture(n_components=k)\n",
    "    yhat = clust.fit_predict(X)\n",
    "    score = silhouette_score(enc, yhat)\n",
    "    silhouette_coefficients.append(score)\n",
    "    print(score)\n",
    "    \n",
    "\n",
    "plt.plot(range(2, 7), silhouette_coefficients)\n",
    "plt.xticks(range(2, 7))\n",
    "plt.xlabel(\"Number of Clusters\")\n",
    "plt.ylabel(\"Silhouette Coefficient\")\n",
    "plt.show()"
   ]
  },
  {
   "cell_type": "code",
   "execution_count": null,
   "metadata": {},
   "outputs": [],
   "source": [
    "pval = []\n",
    "for i in range(2,7):\n",
    "    clust = GaussianMixture(n_components=k)\n",
    "    clust.fit(enc)\n",
    "    pred = pd.DataFrame(clust.labels_,index =enc.index) \n",
    "    cluster_assign = pd.DataFrame([enc.index,clust.labels_]).T\n",
    "    cluster_assign.columns = [\"patient\", \"subtype\"]\n",
    "    cluster_assign = cluster_assign.drop_duplicates(subset=[\"patient\"], keep=\"first\")\n",
    "    # print(cluster_assign)\n",
    "    cluster_assign=cluster_assign.set_index(\"patient\")\n",
    "    clust_asgn = cluster_assign.subtype\n",
    "    pval.append(cluster_KMplot(clust_asgn, surv_file, delimiter=','))\n",
    "for i in pval:\n",
    "    print(i)"
   ]
  }
 ],
 "metadata": {
  "kernelspec": {
   "display_name": "Python 3 (ipykernel)",
   "language": "python",
   "name": "python3"
  },
  "language_info": {
   "codemirror_mode": {
    "name": "ipython",
    "version": 3
   },
   "file_extension": ".py",
   "mimetype": "text/x-python",
   "name": "python",
   "nbconvert_exporter": "python",
   "pygments_lexer": "ipython3",
   "version": "3.9.12"
  }
 },
 "nbformat": 4,
 "nbformat_minor": 4
}
