{
 "cells": [
  {
   "cell_type": "code",
   "execution_count": 91,
   "metadata": {},
   "outputs": [],
   "source": [
    "import matplotlib.pyplot as plt\n",
    "from kneed import KneeLocator\n",
    "from sklearn.datasets import make_blobs\n",
    "from sklearn.cluster import KMeans\n",
    "from sklearn.metrics import silhouette_score\n",
    "from sklearn.preprocessing import StandardScaler\n",
    "import pandas as pd\n",
    "import matplotlib\n",
    "from matplotlib import pyplot\n",
    "import gower\n",
    "from sklearn.decomposition import PCA\n",
    "from sklearn.manifold import TSNE\n",
    "from numpy import unique\n",
    "from numpy import where\n",
    "from sklearn.cluster import *\n",
    "from survival_plot import cluster_KMplot\n",
    "from sklearn_extra.cluster import KMedoids, CommonNNClustering\n",
    "import numpy as np\n",
    "from sklearn.mixture import GaussianMixture\n",
    "matplotlib.use('TkAgg')"
   ]
  },
  {
   "cell_type": "code",
   "execution_count": 13,
   "metadata": {},
   "outputs": [],
   "source": [
    "surv_file = \"../survival_KIRP.csv\"\n",
    "encoding = \"../KIRP_SM/netprop/all_gnmf.csv\""
   ]
  },
  {
   "cell_type": "code",
   "execution_count": 3,
   "metadata": {},
   "outputs": [],
   "source": [
    "enc = pd.read_csv(encoding, index_col=0).fillna(0)\n",
    "cols = enc.columns\n",
    "for col in cols:\n",
    "    enc[col] = enc[col].astype(float)"
   ]
  },
  {
   "cell_type": "code",
   "execution_count": 4,
   "metadata": {},
   "outputs": [
    {
     "data": {
      "text/html": [
       "<div>\n",
       "<style scoped>\n",
       "    .dataframe tbody tr th:only-of-type {\n",
       "        vertical-align: middle;\n",
       "    }\n",
       "\n",
       "    .dataframe tbody tr th {\n",
       "        vertical-align: top;\n",
       "    }\n",
       "\n",
       "    .dataframe thead th {\n",
       "        text-align: right;\n",
       "    }\n",
       "</style>\n",
       "<table border=\"1\" class=\"dataframe\">\n",
       "  <thead>\n",
       "    <tr style=\"text-align: right;\">\n",
       "      <th></th>\n",
       "      <th>x</th>\n",
       "      <th>y</th>\n",
       "    </tr>\n",
       "  </thead>\n",
       "  <tbody>\n",
       "    <tr>\n",
       "      <th>TCGA-P4-A5ED</th>\n",
       "      <td>0.000766</td>\n",
       "      <td>0.000121</td>\n",
       "    </tr>\n",
       "    <tr>\n",
       "      <th>TCGA-F9-A8NY</th>\n",
       "      <td>0.003013</td>\n",
       "      <td>0.004049</td>\n",
       "    </tr>\n",
       "    <tr>\n",
       "      <th>TCGA-A4-7584</th>\n",
       "      <td>0.004031</td>\n",
       "      <td>0.003932</td>\n",
       "    </tr>\n",
       "    <tr>\n",
       "      <th>TCGA-Y8-A8RY</th>\n",
       "      <td>0.003585</td>\n",
       "      <td>0.006987</td>\n",
       "    </tr>\n",
       "    <tr>\n",
       "      <th>TCGA-MH-A854</th>\n",
       "      <td>0.007056</td>\n",
       "      <td>0.009724</td>\n",
       "    </tr>\n",
       "    <tr>\n",
       "      <th>...</th>\n",
       "      <td>...</td>\n",
       "      <td>...</td>\n",
       "    </tr>\n",
       "    <tr>\n",
       "      <th>TCGA-G7-7502</th>\n",
       "      <td>0.001806</td>\n",
       "      <td>0.006971</td>\n",
       "    </tr>\n",
       "    <tr>\n",
       "      <th>TCGA-A4-7585</th>\n",
       "      <td>0.005353</td>\n",
       "      <td>0.009634</td>\n",
       "    </tr>\n",
       "    <tr>\n",
       "      <th>TCGA-AL-A5DJ</th>\n",
       "      <td>0.001126</td>\n",
       "      <td>0.005886</td>\n",
       "    </tr>\n",
       "    <tr>\n",
       "      <th>TCGA-BQ-5879</th>\n",
       "      <td>0.000976</td>\n",
       "      <td>0.001664</td>\n",
       "    </tr>\n",
       "    <tr>\n",
       "      <th>TCGA-BQ-5888</th>\n",
       "      <td>0.002207</td>\n",
       "      <td>0.000466</td>\n",
       "    </tr>\n",
       "  </tbody>\n",
       "</table>\n",
       "<p>251 rows × 2 columns</p>\n",
       "</div>"
      ],
      "text/plain": [
       "                     x         y\n",
       "TCGA-P4-A5ED  0.000766  0.000121\n",
       "TCGA-F9-A8NY  0.003013  0.004049\n",
       "TCGA-A4-7584  0.004031  0.003932\n",
       "TCGA-Y8-A8RY  0.003585  0.006987\n",
       "TCGA-MH-A854  0.007056  0.009724\n",
       "...                ...       ...\n",
       "TCGA-G7-7502  0.001806  0.006971\n",
       "TCGA-A4-7585  0.005353  0.009634\n",
       "TCGA-AL-A5DJ  0.001126  0.005886\n",
       "TCGA-BQ-5879  0.000976  0.001664\n",
       "TCGA-BQ-5888  0.002207  0.000466\n",
       "\n",
       "[251 rows x 2 columns]"
      ]
     },
     "execution_count": 4,
     "metadata": {},
     "output_type": "execute_result"
    }
   ],
   "source": [
    "enc"
   ]
  },
  {
   "cell_type": "code",
   "execution_count": 84,
   "metadata": {},
   "outputs": [],
   "source": [
    "plt.scatter(enc.iloc[:,0], enc.iloc[:,1])\n",
    "plt.show()\n",
    "gow = gower.gower_matrix(enc)\n",
    "plt.scatter(gow[:,0], gow[:,1])\n",
    "plt.show()"
   ]
  },
  {
   "cell_type": "markdown",
   "metadata": {},
   "source": [
    "## Kmeans"
   ]
  },
  {
   "cell_type": "code",
   "execution_count": 10,
   "metadata": {},
   "outputs": [
    {
     "name": "stdout",
     "output_type": "stream",
     "text": [
      "0.003931826457241983\n",
      "0.002566432929774991\n",
      "0.0019956382994393957\n",
      "0.0015663603900681225\n",
      "0.001301804778434754\n"
     ]
    },
    {
     "data": {
      "text/plain": [
       "3"
      ]
     },
     "execution_count": 10,
     "metadata": {},
     "output_type": "execute_result"
    }
   ],
   "source": [
    "sse = []\n",
    "for k in range(2, 7):\n",
    "    kmeans = KMeans(n_clusters=k)\n",
    "    kmeans.fit(enc)\n",
    "    sse.append(kmeans.inertia_)\n",
    "    print(kmeans.inertia_)\n",
    "\n",
    "plt.plot(range(2, 7), sse)\n",
    "plt.xticks(range(2, 7))\n",
    "plt.xlabel(\"Number of Clusters\")\n",
    "plt.ylabel(\"SSE\")\n",
    "plt.show()from sklearn.mixture import GaussianMixture\n",
    "\n",
    "kl = KneeLocator(range(2, 7), sse, curve=\"convex\", direction=\"decreasing\")\n",
    "kl.elbow"
   ]
  },
  {
   "cell_type": "code",
   "execution_count": 11,
   "metadata": {},
   "outputs": [
    {
     "name": "stdout",
     "output_type": "stream",
     "text": [
      "0.38997122999853\n",
      "0.42952403865492267\n",
      "0.41952202526532306\n",
      "0.390098313850703\n",
      "0.40485769819423467\n"
     ]
    }
   ],
   "source": [
    "silhouette_coefficients = []\n",
    "for k in range(2, 7):\n",
    "    kmeans = KMeans(n_clusters=k)\n",
    "    kmeans.fit(enc)\n",
    "    score = silhouette_score(enc, kmeans.labels_)\n",
    "    silhouette_coefficients.append(score)\n",
    "    print(score)\n",
    "    \n",
    "\n",
    "plt.plot(range(2, 7), silhouette_coefficients)\n",
    "plt.xticks(range(2, 7))\n",
    "plt.xlabel(\"Number of Clusters\")\n",
    "plt.ylabel(\"Silhouette Coefficient\")\n",
    "plt.show()"
   ]
  },
  {
   "cell_type": "code",
   "execution_count": 15,
   "metadata": {},
   "outputs": [
    {
     "name": "stdout",
     "output_type": "stream",
     "text": [
      "Multi-Class Log-Rank P: 0.5515472117239333\n",
      "Kaplan Meier Plot constructed\n",
      "Multi-Class Log-Rank P: 0.5215355986969148\n",
      "Kaplan Meier Plot constructed\n",
      "Multi-Class Log-Rank P: 0.927242823987755\n",
      "Kaplan Meier Plot constructed\n",
      "Multi-Class Log-Rank P: 0.8248886289872356\n",
      "Kaplan Meier Plot constructed\n",
      "Multi-Class Log-Rank P: 0.09555899135775531\n",
      "Kaplan Meier Plot constructed\n",
      "0.5515472117239333\n",
      "0.5215355986969148\n",
      "0.927242823987755\n",
      "0.8248886289872356\n",
      "0.09555899135775531\n"
     ]
    }
   ],
   "source": [
    "pval = []\n",
    "for i in range(2,7):\n",
    "    kmeans = KMeans(n_clusters=i)\n",
    "    kmeans.fit(enc)\n",
    "    pred = pd.DataFrame(kmeans.labels_,index =enc.index) \n",
    "    cluster_assign = pd.DataFrame([enc.index,kmeans.labels_]).T\n",
    "    cluster_assign.columns = [\"patient\", \"subtype\"]\n",
    "    cluster_assign = cluster_assign.drop_duplicates(subset=[\"patient\"], keep=\"first\")\n",
    "    # print(cluster_assign)\n",
    "    cluster_assign=cluster_assign.set_index(\"patient\")\n",
    "    clust_asgn = cluster_assign.subtype\n",
    "    pval.append(cluster_KMplot(clust_asgn, surv_file, delimiter=','))\n",
    "for i in pval:\n",
    "    print(i)"
   ]
  },
  {
   "cell_type": "markdown",
   "metadata": {},
   "source": [
    "## PAM clustering"
   ]
  },
  {
   "cell_type": "code",
   "execution_count": 18,
   "metadata": {},
   "outputs": [],
   "source": [
    "dist = gower.gower_matrix(enc)"
   ]
  },
  {
   "cell_type": "code",
   "execution_count": 23,
   "metadata": {},
   "outputs": [
    {
     "name": "stdout",
     "output_type": "stream",
     "text": [
      "0.39978763\n",
      "0.32782555\n",
      "0.35702348\n",
      "0.36076608\n",
      "0.35897115\n",
      "199.50958\n",
      "199.50958\n",
      "199.50958\n",
      "199.50958\n",
      "199.50958\n"
     ]
    }
   ],
   "source": [
    "silhouette_coefficients = []\n",
    "sse = []\n",
    "for k in range(2, 7):\n",
    "    pam = KMedoids(n_clusters=k,init='k-medoids++')\n",
    "    pam.fit(dist)\n",
    "    score = silhouette_score(dist, pam.labels_)\n",
    "    silhouette_coefficients.append(score)\n",
    "    sse.append(kmeans.inertia_)\n",
    "    print(score)\n",
    "\n",
    "for i in sse:\n",
    "    print(i)\n",
    "\n",
    "plt.plot(range(2, 7), sse)\n",
    "plt.xticks(range(2, 7))\n",
    "plt.xlabel(\"Number of Clusters\")\n",
    "plt.ylabel(\"WCSS\")\n",
    "plt.show()"
   ]
  },
  {
   "cell_type": "code",
   "execution_count": 21,
   "metadata": {},
   "outputs": [],
   "source": [
    "plt.plot(range(2, 7), silhouette_coefficients)\n",
    "plt.xticks(range(2, 7))\n",
    "plt.xlabel(\"Number of Clusters\")\n",
    "plt.ylabel(\"Silhouette Coefficient\")\n",
    "plt.show()"
   ]
  },
  {
   "cell_type": "code",
   "execution_count": 24,
   "metadata": {},
   "outputs": [
    {
     "name": "stdout",
     "output_type": "stream",
     "text": [
      "Multi-Class Log-Rank P: 0.22941553796637235\n",
      "Kaplan Meier Plot constructed\n",
      "Multi-Class Log-Rank P: 0.6875572393032183\n",
      "Kaplan Meier Plot constructed\n",
      "Multi-Class Log-Rank P: 0.33534166706415647\n",
      "Kaplan Meier Plot constructed\n",
      "Multi-Class Log-Rank P: 0.8896369691212362\n",
      "Kaplan Meier Plot constructed\n",
      "Multi-Class Log-Rank P: 0.8108866563969239\n",
      "Kaplan Meier Plot constructed\n",
      "0.22941553796637235\n",
      "0.6875572393032183\n",
      "0.33534166706415647\n",
      "0.8896369691212362\n",
      "0.8108866563969239\n"
     ]
    }
   ],
   "source": [
    "pval = []\n",
    "for i in range(2,7):\n",
    "    dist = gower.gower_matrix(enc)\n",
    "    pam = KMedoids(n_clusters=i, init='k-medoids++')\n",
    "    pam.fit(dist)\n",
    "    pred = pd.DataFrame(pam.labels_,index =enc.index) \n",
    "    cluster_assign = pd.DataFrame([enc.index,pam.labels_]).T\n",
    "    cluster_assign.columns = [\"patient\", \"subtype\"]\n",
    "    cluster_assign = cluster_assign.drop_duplicates(subset=[\"patient\"], keep=\"first\")\n",
    "    # print(cluster_assign)\n",
    "    cluster_assign=cluster_assign.set_index(\"patient\")\n",
    "    clust_asgn = cluster_assign.subtype\n",
    "    pval.append(cluster_KMplot(clust_asgn, surv_file, delimiter=','))\n",
    "for i in pval:\n",
    "    print(i)"
   ]
  },
  {
   "cell_type": "markdown",
   "metadata": {},
   "source": [
    "## CommonNN "
   ]
  },
  {
   "cell_type": "code",
   "execution_count": 41,
   "metadata": {},
   "outputs": [
    {
     "data": {
      "text/html": [
       "<style>#sk-container-id-8 {color: black;background-color: white;}#sk-container-id-8 pre{padding: 0;}#sk-container-id-8 div.sk-toggleable {background-color: white;}#sk-container-id-8 label.sk-toggleable__label {cursor: pointer;display: block;width: 100%;margin-bottom: 0;padding: 0.3em;box-sizing: border-box;text-align: center;}#sk-container-id-8 label.sk-toggleable__label-arrow:before {content: \"▸\";float: left;margin-right: 0.25em;color: #696969;}#sk-container-id-8 label.sk-toggleable__label-arrow:hover:before {color: black;}#sk-container-id-8 div.sk-estimator:hover label.sk-toggleable__label-arrow:before {color: black;}#sk-container-id-8 div.sk-toggleable__content {max-height: 0;max-width: 0;overflow: hidden;text-align: left;background-color: #f0f8ff;}#sk-container-id-8 div.sk-toggleable__content pre {margin: 0.2em;color: black;border-radius: 0.25em;background-color: #f0f8ff;}#sk-container-id-8 input.sk-toggleable__control:checked~div.sk-toggleable__content {max-height: 200px;max-width: 100%;overflow: auto;}#sk-container-id-8 input.sk-toggleable__control:checked~label.sk-toggleable__label-arrow:before {content: \"▾\";}#sk-container-id-8 div.sk-estimator input.sk-toggleable__control:checked~label.sk-toggleable__label {background-color: #d4ebff;}#sk-container-id-8 div.sk-label input.sk-toggleable__control:checked~label.sk-toggleable__label {background-color: #d4ebff;}#sk-container-id-8 input.sk-hidden--visually {border: 0;clip: rect(1px 1px 1px 1px);clip: rect(1px, 1px, 1px, 1px);height: 1px;margin: -1px;overflow: hidden;padding: 0;position: absolute;width: 1px;}#sk-container-id-8 div.sk-estimator {font-family: monospace;background-color: #f0f8ff;border: 1px dotted black;border-radius: 0.25em;box-sizing: border-box;margin-bottom: 0.5em;}#sk-container-id-8 div.sk-estimator:hover {background-color: #d4ebff;}#sk-container-id-8 div.sk-parallel-item::after {content: \"\";width: 100%;border-bottom: 1px solid gray;flex-grow: 1;}#sk-container-id-8 div.sk-label:hover label.sk-toggleable__label {background-color: #d4ebff;}#sk-container-id-8 div.sk-serial::before {content: \"\";position: absolute;border-left: 1px solid gray;box-sizing: border-box;top: 0;bottom: 0;left: 50%;z-index: 0;}#sk-container-id-8 div.sk-serial {display: flex;flex-direction: column;align-items: center;background-color: white;padding-right: 0.2em;padding-left: 0.2em;position: relative;}#sk-container-id-8 div.sk-item {position: relative;z-index: 1;}#sk-container-id-8 div.sk-parallel {display: flex;align-items: stretch;justify-content: center;background-color: white;position: relative;}#sk-container-id-8 div.sk-item::before, #sk-container-id-8 div.sk-parallel-item::before {content: \"\";position: absolute;border-left: 1px solid gray;box-sizing: border-box;top: 0;bottom: 0;left: 50%;z-index: -1;}#sk-container-id-8 div.sk-parallel-item {display: flex;flex-direction: column;z-index: 1;position: relative;background-color: white;}#sk-container-id-8 div.sk-parallel-item:first-child::after {align-self: flex-end;width: 50%;}#sk-container-id-8 div.sk-parallel-item:last-child::after {align-self: flex-start;width: 50%;}#sk-container-id-8 div.sk-parallel-item:only-child::after {width: 0;}#sk-container-id-8 div.sk-dashed-wrapped {border: 1px dashed gray;margin: 0 0.4em 0.5em 0.4em;box-sizing: border-box;padding-bottom: 0.4em;background-color: white;}#sk-container-id-8 div.sk-label label {font-family: monospace;font-weight: bold;display: inline-block;line-height: 1.2em;}#sk-container-id-8 div.sk-label-container {text-align: center;}#sk-container-id-8 div.sk-container {/* jupyter's `normalize.less` sets `[hidden] { display: none; }` but bootstrap.min.css set `[hidden] { display: none !important; }` so we also need the `!important` here to be able to override the default hidden behavior on the sphinx rendered scikit-learn.org. See: https://github.com/scikit-learn/scikit-learn/issues/21755 */display: inline-block !important;position: relative;}#sk-container-id-8 div.sk-text-repr-fallback {display: none;}</style><div id=\"sk-container-id-8\" class=\"sk-top-container\"><div class=\"sk-text-repr-fallback\"><pre>CommonNNClustering(eps=0.005, min_samples=0)</pre><b>In a Jupyter environment, please rerun this cell to show the HTML representation or trust the notebook. <br />On GitHub, the HTML representation is unable to render, please try loading this page with nbviewer.org.</b></div><div class=\"sk-container\" hidden><div class=\"sk-item\"><div class=\"sk-estimator sk-toggleable\"><input class=\"sk-toggleable__control sk-hidden--visually\" id=\"sk-estimator-id-8\" type=\"checkbox\" checked><label for=\"sk-estimator-id-8\" class=\"sk-toggleable__label sk-toggleable__label-arrow\">CommonNNClustering</label><div class=\"sk-toggleable__content\"><pre>CommonNNClustering(eps=0.005, min_samples=0)</pre></div></div></div></div></div>"
      ],
      "text/plain": [
       "CommonNNClustering(eps=0.005, min_samples=0)"
      ]
     },
     "execution_count": 41,
     "metadata": {},
     "output_type": "execute_result"
    }
   ],
   "source": [
    "clustering = CommonNNClustering(eps=0.005, min_samples=0)\n",
    "clustering.fit(enc)"
   ]
  },
  {
   "cell_type": "code",
   "execution_count": 43,
   "metadata": {},
   "outputs": [
    {
     "name": "stdout",
     "output_type": "stream",
     "text": [
      "Multi-Class Log-Rank P: 0.5516618073539884\n",
      "Kaplan Meier Plot constructed\n"
     ]
    },
    {
     "data": {
      "text/plain": [
       "0.5516618073539884"
      ]
     },
     "execution_count": 43,
     "metadata": {},
     "output_type": "execute_result"
    }
   ],
   "source": [
    "cluster_assign = pd.DataFrame([enc.index,clustering.labels_]).T\n",
    "cluster_assign.columns = [\"patient\", \"subtype\"]\n",
    "cluster_assign = cluster_assign.drop_duplicates(subset=[\"patient\"], keep=\"first\")\n",
    "cluster_assign=cluster_assign.set_index(\"patient\")\n",
    "clust_asgn = cluster_assign.subtype\n",
    "cluster_KMplot(clust_asgn, surv_file, delimiter=',')"
   ]
  },
  {
   "cell_type": "markdown",
   "metadata": {},
   "source": [
    "## Affinitypropagation"
   ]
  },
  {
   "cell_type": "code",
   "execution_count": 51,
   "metadata": {},
   "outputs": [
    {
     "name": "stdout",
     "output_type": "stream",
     "text": [
      "(251, 251)\n",
      "Multi-Class Log-Rank P: nan\n",
      "Kaplan Meier Plot constructed\n"
     ]
    },
    {
     "data": {
      "text/plain": [
       "nan"
      ]
     },
     "execution_count": 51,
     "metadata": {},
     "output_type": "execute_result"
    }
   ],
   "source": [
    "dist = gower.gower_matrix(enc)\n",
    "X = dist\n",
    "print(X.shape)\n",
    "model = AffinityPropagation(damping=0.9)\n",
    "model.fit(X)\n",
    "yhat = model.predict(X)\n",
    "pred = pd.DataFrame(yhat,index =enc.index) \n",
    "clusters = unique(yhat)\n",
    "for cluster in clusters:\n",
    "    row_ix = where(yhat == cluster)\n",
    "    pyplot.scatter(X[row_ix, 0], X[row_ix, 1])\n",
    "pyplot.show()\n",
    "\n",
    "\n",
    "cluster_assign = pd.DataFrame([enc.index,model.labels_]).T\n",
    "cluster_assign.columns = [\"patient\", \"subtype\"]\n",
    "cluster_assign = cluster_assign.drop_duplicates(subset=[\"patient\"], keep=\"first\")\n",
    "cluster_assign=cluster_assign.set_index(\"patient\")\n",
    "clust_asgn = cluster_assign.subtype\n",
    "cluster_KMplot(clust_asgn, surv_file, delimiter=',')"
   ]
  },
  {
   "cell_type": "markdown",
   "metadata": {},
   "source": [
    "## Agglomerative clustering"
   ]
  },
  {
   "cell_type": "code",
   "execution_count": 66,
   "metadata": {},
   "outputs": [
    {
     "name": "stdout",
     "output_type": "stream",
     "text": [
      "(251, 2)\n",
      "Multi-Class Log-Rank P: 0.7932115108694153\n",
      "Kaplan Meier Plot constructed\n"
     ]
    },
    {
     "data": {
      "text/plain": [
       "0.7932115108694153"
      ]
     },
     "execution_count": 66,
     "metadata": {},
     "output_type": "execute_result"
    }
   ],
   "source": [
    "X = np.array(enc)\n",
    "# dist = gower.gower_matrix(enc)\n",
    "# X = dist\n",
    "print(X.shape)\n",
    "model = AgglomerativeClustering(n_clusters=2)\n",
    "yhat = model.fit_predict(X)\n",
    "pred = pd.DataFrame(yhat,index =enc.index) \n",
    "clusters = unique(yhat)\n",
    "for cluster in clusters:\n",
    "    row_ix = where(yhat == cluster)\n",
    "    pyplot.scatter(X[row_ix, 0], X[row_ix, 1])\n",
    "pyplot.show()\n",
    "\n",
    "\n",
    "cluster_assign = pd.DataFrame([enc.index,model.labels_]).T\n",
    "cluster_assign.columns = [\"patient\", \"subtype\"]\n",
    "cluster_assign = cluster_assign.drop_duplicates(subset=[\"patient\"], keep=\"first\")\n",
    "cluster_assign=cluster_assign.set_index(\"patient\")\n",
    "clust_asgn = cluster_assign.subtype\n",
    "cluster_KMplot(clust_asgn, surv_file, delimiter=',')"
   ]
  },
  {
   "cell_type": "code",
   "execution_count": 55,
   "metadata": {},
   "outputs": [
    {
     "name": "stdout",
     "output_type": "stream",
     "text": [
      "0.30723104117915423\n",
      "0.37205902358596066\n",
      "0.3593338720997808\n",
      "0.3804252779557021\n",
      "0.38163474586927765\n"
     ]
    }
   ],
   "source": [
    "silhouette_coefficients = []\n",
    "for k in range(2, 7):\n",
    "    clust = AgglomerativeClustering(n_clusters=k)\n",
    "    clust.fit(enc)\n",
    "    score = silhouette_score(enc, clust.labels_)\n",
    "    silhouette_coefficients.append(score)\n",
    "    print(score)\n",
    "    \n",
    "\n",
    "plt.plot(range(2, 7), silhouette_coefficients)\n",
    "plt.xticks(range(2, 7))\n",
    "plt.xlabel(\"Number of Clusters\")\n",
    "plt.ylabel(\"Silhouette Coefficient\")\n",
    "plt.show()"
   ]
  },
  {
   "cell_type": "code",
   "execution_count": 59,
   "metadata": {},
   "outputs": [
    {
     "name": "stderr",
     "output_type": "stream",
     "text": [
      "/home/aswin/anaconda3/envs/ml/lib/python3.9/site-packages/scipy/cluster/hierarchy.py:834: ClusterWarning: scipy.cluster: The symmetric non-negative hollow observation matrix looks suspiciously like an uncondensed distance matrix\n",
      "  return linkage(y, method='ward', metric='euclidean')\n"
     ]
    },
    {
     "name": "stdout",
     "output_type": "stream",
     "text": [
      "Multi-Class Log-Rank P: 0.06902399555153303\n",
      "Kaplan Meier Plot constructed\n"
     ]
    },
    {
     "name": "stderr",
     "output_type": "stream",
     "text": [
      "/home/aswin/anaconda3/envs/ml/lib/python3.9/site-packages/scipy/cluster/hierarchy.py:834: ClusterWarning: scipy.cluster: The symmetric non-negative hollow observation matrix looks suspiciously like an uncondensed distance matrix\n",
      "  return linkage(y, method='ward', metric='euclidean')\n"
     ]
    },
    {
     "name": "stdout",
     "output_type": "stream",
     "text": [
      "Multi-Class Log-Rank P: 0.08680748238041822\n",
      "Kaplan Meier Plot constructed\n"
     ]
    },
    {
     "name": "stderr",
     "output_type": "stream",
     "text": [
      "/home/aswin/anaconda3/envs/ml/lib/python3.9/site-packages/scipy/cluster/hierarchy.py:834: ClusterWarning: scipy.cluster: The symmetric non-negative hollow observation matrix looks suspiciously like an uncondensed distance matrix\n",
      "  return linkage(y, method='ward', metric='euclidean')\n"
     ]
    },
    {
     "name": "stdout",
     "output_type": "stream",
     "text": [
      "Multi-Class Log-Rank P: 0.1727762557683377\n",
      "Kaplan Meier Plot constructed\n"
     ]
    },
    {
     "name": "stderr",
     "output_type": "stream",
     "text": [
      "/home/aswin/anaconda3/envs/ml/lib/python3.9/site-packages/scipy/cluster/hierarchy.py:834: ClusterWarning: scipy.cluster: The symmetric non-negative hollow observation matrix looks suspiciously like an uncondensed distance matrix\n",
      "  return linkage(y, method='ward', metric='euclidean')\n"
     ]
    },
    {
     "name": "stdout",
     "output_type": "stream",
     "text": [
      "Multi-Class Log-Rank P: 0.09690170511068721\n",
      "Kaplan Meier Plot constructed\n"
     ]
    },
    {
     "name": "stderr",
     "output_type": "stream",
     "text": [
      "/home/aswin/anaconda3/envs/ml/lib/python3.9/site-packages/scipy/cluster/hierarchy.py:834: ClusterWarning: scipy.cluster: The symmetric non-negative hollow observation matrix looks suspiciously like an uncondensed distance matrix\n",
      "  return linkage(y, method='ward', metric='euclidean')\n"
     ]
    },
    {
     "name": "stdout",
     "output_type": "stream",
     "text": [
      "Multi-Class Log-Rank P: 0.11490890851485282\n",
      "Kaplan Meier Plot constructed\n",
      "0.06902399555153303\n",
      "0.08680748238041822\n",
      "0.1727762557683377\n",
      "0.09690170511068721\n",
      "0.11490890851485282\n"
     ]
    }
   ],
   "source": [
    "pval = []\n",
    "for i in range(2,7):\n",
    "    clust = AgglomerativeClustering(n_clusters=i)\n",
    "    clust.fit(enc)\n",
    "    pred = pd.DataFrame(clust.labels_,index =enc.index) \n",
    "    cluster_assign = pd.DataFrame([enc.index,clust.labels_]).T\n",
    "    cluster_assign.columns = [\"patient\", \"subtype\"]\n",
    "    cluster_assign = cluster_assign.drop_duplicates(subset=[\"patient\"], keep=\"first\")\n",
    "    # print(cluster_assign)\n",
    "    cluster_assign=cluster_assign.set_index(\"patient\")\n",
    "    clust_asgn = cluster_assign.subtype\n",
    "    pval.append(cluster_KMplot(clust_asgn, surv_file, delimiter=','))\n",
    "for i in pval:\n",
    "    print(i)"
   ]
  },
  {
   "cell_type": "markdown",
   "metadata": {},
   "source": [
    "## BIRCH"
   ]
  },
  {
   "cell_type": "code",
   "execution_count": 68,
   "metadata": {},
   "outputs": [
    {
     "name": "stdout",
     "output_type": "stream",
     "text": [
      "(251, 251)\n",
      "Multi-Class Log-Rank P: 0.1295534539100119\n",
      "Kaplan Meier Plot constructed\n"
     ]
    },
    {
     "data": {
      "text/plain": [
       "0.1295534539100119"
      ]
     },
     "execution_count": 68,
     "metadata": {},
     "output_type": "execute_result"
    }
   ],
   "source": [
    "# X = np.array(enc)\n",
    "dist = gower.gower_matrix(enc)\n",
    "X = dist\n",
    "print(X.shape)\n",
    "model = Birch(threshold=0.01, n_clusters=2)\n",
    "yhat = model.fit_predict(X)\n",
    "pred = pd.DataFrame(yhat,index =enc.index) \n",
    "clusters = unique(yhat)\n",
    "for cluster in clusters:\n",
    "    row_ix = where(yhat == cluster)\n",
    "    pyplot.scatter(X[row_ix, 0], X[row_ix, 1])\n",
    "pyplot.show()\n",
    "\n",
    "\n",
    "cluster_assign = pd.DataFrame([enc.index,model.labels_]).T\n",
    "cluster_assign.columns = [\"patient\", \"subtype\"]\n",
    "cluster_assign = cluster_assign.drop_duplicates(subset=[\"patient\"], keep=\"first\")\n",
    "cluster_assign=cluster_assign.set_index(\"patient\")\n",
    "clust_asgn = cluster_assign.subtype\n",
    "cluster_KMplot(clust_asgn, surv_file, delimiter=',')"
   ]
  },
  {
   "cell_type": "code",
   "execution_count": 71,
   "metadata": {},
   "outputs": [
    {
     "name": "stdout",
     "output_type": "stream",
     "text": [
      "0.59114873\n",
      "0.35475042\n",
      "0.34913725\n",
      "0.36009908\n",
      "0.35215223\n"
     ]
    }
   ],
   "source": [
    "silhouette_coefficients = []\n",
    "for k in range(2, 7):\n",
    "    clust = Birch(n_clusters=k)\n",
    "    clust.fit(dist)\n",
    "    score = silhouette_score(dist, clust.labels_)\n",
    "    silhouette_coefficients.append(score)\n",
    "    print(score)\n",
    "    \n",
    "\n",
    "plt.plot(range(2, 7), silhouette_coefficients)\n",
    "plt.xticks(range(2, 7))\n",
    "plt.xlabel(\"Number of Clusters\")\n",
    "plt.ylabel(\"Silhouette Coefficient\")\n",
    "plt.show()"
   ]
  },
  {
   "cell_type": "code",
   "execution_count": 72,
   "metadata": {},
   "outputs": [
    {
     "name": "stderr",
     "output_type": "stream",
     "text": [
      "/home/aswin/anaconda3/envs/ml/lib/python3.9/site-packages/scipy/cluster/hierarchy.py:834: ClusterWarning: scipy.cluster: The symmetric non-negative hollow observation matrix looks suspiciously like an uncondensed distance matrix\n",
      "  return linkage(y, method='ward', metric='euclidean')\n"
     ]
    },
    {
     "name": "stdout",
     "output_type": "stream",
     "text": [
      "Multi-Class Log-Rank P: 0.06902399555153303\n",
      "Kaplan Meier Plot constructed\n"
     ]
    },
    {
     "name": "stderr",
     "output_type": "stream",
     "text": [
      "/home/aswin/anaconda3/envs/ml/lib/python3.9/site-packages/scipy/cluster/hierarchy.py:834: ClusterWarning: scipy.cluster: The symmetric non-negative hollow observation matrix looks suspiciously like an uncondensed distance matrix\n",
      "  return linkage(y, method='ward', metric='euclidean')\n"
     ]
    },
    {
     "name": "stdout",
     "output_type": "stream",
     "text": [
      "Multi-Class Log-Rank P: 0.08680748238041822\n",
      "Kaplan Meier Plot constructed\n"
     ]
    },
    {
     "name": "stderr",
     "output_type": "stream",
     "text": [
      "/home/aswin/anaconda3/envs/ml/lib/python3.9/site-packages/scipy/cluster/hierarchy.py:834: ClusterWarning: scipy.cluster: The symmetric non-negative hollow observation matrix looks suspiciously like an uncondensed distance matrix\n",
      "  return linkage(y, method='ward', metric='euclidean')\n"
     ]
    },
    {
     "name": "stdout",
     "output_type": "stream",
     "text": [
      "Multi-Class Log-Rank P: 0.1727762557683377\n",
      "Kaplan Meier Plot constructed\n"
     ]
    },
    {
     "name": "stderr",
     "output_type": "stream",
     "text": [
      "/home/aswin/anaconda3/envs/ml/lib/python3.9/site-packages/scipy/cluster/hierarchy.py:834: ClusterWarning: scipy.cluster: The symmetric non-negative hollow observation matrix looks suspiciously like an uncondensed distance matrix\n",
      "  return linkage(y, method='ward', metric='euclidean')\n"
     ]
    },
    {
     "name": "stdout",
     "output_type": "stream",
     "text": [
      "Multi-Class Log-Rank P: 0.09690170511068721\n",
      "Kaplan Meier Plot constructed\n"
     ]
    },
    {
     "name": "stderr",
     "output_type": "stream",
     "text": [
      "/home/aswin/anaconda3/envs/ml/lib/python3.9/site-packages/scipy/cluster/hierarchy.py:834: ClusterWarning: scipy.cluster: The symmetric non-negative hollow observation matrix looks suspiciously like an uncondensed distance matrix\n",
      "  return linkage(y, method='ward', metric='euclidean')\n"
     ]
    },
    {
     "name": "stdout",
     "output_type": "stream",
     "text": [
      "Multi-Class Log-Rank P: 0.11490890851485282\n",
      "Kaplan Meier Plot constructed\n",
      "0.06902399555153303\n",
      "0.08680748238041822\n",
      "0.1727762557683377\n",
      "0.09690170511068721\n",
      "0.11490890851485282\n"
     ]
    }
   ],
   "source": [
    "pval = []\n",
    "for i in range(2,7):\n",
    "    clust = AgglomerativeClustering(n_clusters=i)\n",
    "    clust.fit(dist)\n",
    "    pred = pd.DataFrame(clust.labels_,index =enc.index) \n",
    "    cluster_assign = pd.DataFrame([enc.index,clust.labels_]).T\n",
    "    cluster_assign.columns = [\"patient\", \"subtype\"]\n",
    "    cluster_assign = cluster_assign.drop_duplicates(subset=[\"patient\"], keep=\"first\")\n",
    "    # print(cluster_assign)\n",
    "    cluster_assign=cluster_assign.set_index(\"patient\")\n",
    "    clust_asgn = cluster_assign.subtype\n",
    "    pval.append(cluster_KMplot(clust_asgn, surv_file, delimiter=','))\n",
    "for i in pval:\n",
    "    print(i)"
   ]
  },
  {
   "cell_type": "markdown",
   "metadata": {},
   "source": [
    "## DBscan"
   ]
  },
  {
   "cell_type": "code",
   "execution_count": 79,
   "metadata": {},
   "outputs": [
    {
     "name": "stdout",
     "output_type": "stream",
     "text": [
      "(251, 2)\n",
      "Multi-Class Log-Rank P: nan\n",
      "Kaplan Meier Plot constructed\n"
     ]
    },
    {
     "data": {
      "text/plain": [
       "nan"
      ]
     },
     "execution_count": 79,
     "metadata": {},
     "output_type": "execute_result"
    }
   ],
   "source": [
    "X = np.array(enc)\n",
    "# dist = gower.gower_matrix(enc)\n",
    "# X = dist\n",
    "print(X.shape)\n",
    "model = DBSCAN(eps=0.01, min_samples=10)\n",
    "yhat = model.fit_predict(X)\n",
    "pred = pd.DataFrame(yhat,index =enc.index) \n",
    "clusters = unique(yhat)\n",
    "for cluster in clusters:\n",
    "    row_ix = where(yhat == cluster)\n",
    "    pyplot.scatter(X[row_ix, 0], X[row_ix, 1])\n",
    "pyplot.show()\n",
    "\n",
    "\n",
    "cluster_assign = pd.DataFrame([enc.index,model.labels_]).T\n",
    "cluster_assign.columns = [\"patient\", \"subtype\"]\n",
    "cluster_assign = cluster_assign.drop_duplicates(subset=[\"patient\"], keep=\"first\")\n",
    "cluster_assign=cluster_assign.set_index(\"patient\")\n",
    "clust_asgn = cluster_assign.subtype\n",
    "cluster_KMplot(clust_asgn, surv_file, delimiter=',')"
   ]
  },
  {
   "cell_type": "markdown",
   "metadata": {},
   "source": [
    "## Meanshift"
   ]
  },
  {
   "cell_type": "code",
   "execution_count": 80,
   "metadata": {},
   "outputs": [
    {
     "name": "stdout",
     "output_type": "stream",
     "text": [
      "(251, 2)\n",
      "Multi-Class Log-Rank P: 0.5071731569767459\n",
      "Kaplan Meier Plot constructed\n"
     ]
    },
    {
     "data": {
      "text/plain": [
       "0.5071731569767459"
      ]
     },
     "execution_count": 80,
     "metadata": {},
     "output_type": "execute_result"
    }
   ],
   "source": [
    "X = np.array(enc)\n",
    "# dist = gower.gower_matrix(enc)\n",
    "# X = dist\n",
    "print(X.shape)\n",
    "model = MeanShift()\n",
    "yhat = model.fit_predict(X)\n",
    "pred = pd.DataFrame(yhat,index =enc.index) \n",
    "clusters = unique(yhat)\n",
    "for cluster in clusters:\n",
    "    row_ix = where(yhat == cluster)\n",
    "    pyplot.scatter(X[row_ix, 0], X[row_ix, 1])\n",
    "pyplot.show()\n",
    "\n",
    "\n",
    "cluster_assign = pd.DataFrame([enc.index,model.labels_]).T\n",
    "cluster_assign.columns = [\"patient\", \"subtype\"]\n",
    "cluster_assign = cluster_assign.drop_duplicates(subset=[\"patient\"], keep=\"first\")\n",
    "cluster_assign=cluster_assign.set_index(\"patient\")\n",
    "clust_asgn = cluster_assign.subtype\n",
    "cluster_KMplot(clust_asgn, surv_file, delimiter=',')"
   ]
  },
  {
   "cell_type": "code",
   "execution_count": 81,
   "metadata": {},
   "outputs": [
    {
     "name": "stdout",
     "output_type": "stream",
     "text": [
      "(251, 251)\n",
      "Multi-Class Log-Rank P: 0.6471467347293942\n",
      "Kaplan Meier Plot constructed\n"
     ]
    },
    {
     "data": {
      "text/plain": [
       "0.6471467347293942"
      ]
     },
     "execution_count": 81,
     "metadata": {},
     "output_type": "execute_result"
    }
   ],
   "source": [
    "# X = np.array(enc)\n",
    "dist = gower.gower_matrix(enc)\n",
    "X = dist\n",
    "print(X.shape)\n",
    "model = OPTICS(eps=0.8, min_samples=10)\n",
    "yhat = model.fit_predict(X)\n",
    "pred = pd.DataFrame(yhat,index =enc.index) \n",
    "clusters = unique(yhat)\n",
    "for cluster in clusters:\n",
    "    row_ix = where(yhat == cluster)\n",
    "    pyplot.scatter(X[row_ix, 0], X[row_ix, 1])\n",
    "pyplot.show()\n",
    "\n",
    "\n",
    "cluster_assign = pd.DataFrame([enc.index,model.labels_]).T\n",
    "cluster_assign.columns = [\"patient\", \"subtype\"]\n",
    "cluster_assign = cluster_assign.drop_duplicates(subset=[\"patient\"], keep=\"first\")\n",
    "cluster_assign=cluster_assign.set_index(\"patient\")\n",
    "clust_asgn = cluster_assign.subtype\n",
    "cluster_KMplot(clust_asgn, surv_file, delimiter=',')"
   ]
  },
  {
   "cell_type": "markdown",
   "metadata": {},
   "source": [
    "## Spectral Clustering"
   ]
  },
  {
   "cell_type": "code",
   "execution_count": 85,
   "metadata": {},
   "outputs": [
    {
     "name": "stdout",
     "output_type": "stream",
     "text": [
      "(251, 2)\n",
      "Multi-Class Log-Rank P: 0.6165583470574778\n",
      "Kaplan Meier Plot constructed\n"
     ]
    },
    {
     "data": {
      "text/plain": [
       "0.6165583470574778"
      ]
     },
     "execution_count": 85,
     "metadata": {},
     "output_type": "execute_result"
    }
   ],
   "source": [
    "X = np.array(enc)\n",
    "# dist = gower.gower_matrix(enc)\n",
    "# X = dist\n",
    "print(X.shape)\n",
    "model = SpectralClustering(n_clusters=3)\n",
    "yhat = model.fit_predict(X)\n",
    "pred = pd.DataFrame(yhat,index =enc.index) \n",
    "clusters = unique(yhat)\n",
    "for cluster in clusters:\n",
    "    row_ix = where(yhat == cluster)\n",
    "    pyplot.scatter(X[row_ix, 0], X[row_ix, 1])\n",
    "pyplot.show()\n",
    "\n",
    "\n",
    "cluster_assign = pd.DataFrame([enc.index,model.labels_]).T\n",
    "cluster_assign.columns = [\"patient\", \"subtype\"]\n",
    "cluster_assign = cluster_assign.drop_duplicates(subset=[\"patient\"], keep=\"first\")\n",
    "cluster_assign=cluster_assign.set_index(\"patient\")\n",
    "clust_asgn = cluster_assign.subtype\n",
    "cluster_KMplot(clust_asgn, surv_file, delimiter=',')"
   ]
  },
  {
   "cell_type": "code",
   "execution_count": 88,
   "metadata": {},
   "outputs": [
    {
     "name": "stdout",
     "output_type": "stream",
     "text": [
      "0.3819387554501548\n",
      "0.42759125541662973\n",
      "0.05874227065584608\n",
      "-0.00250755676679873\n",
      "0.0006273202274431577\n"
     ]
    }
   ],
   "source": [
    "silhouette_coefficients = []\n",
    "for k in range(2, 7):\n",
    "    clust = SpectralClustering(n_clusters=k)\n",
    "    clust.fit(enc)\n",
    "    score = silhouette_score(enc, clust.labels_)\n",
    "    silhouette_coefficients.append(score)\n",
    "    print(score)\n",
    "    \n",
    "\n",
    "plt.plot(range(2, 7), silhouette_coefficients)\n",
    "plt.xticks(range(2, 7))\n",
    "plt.xlabel(\"Number of Clusters\")\n",
    "plt.ylabel(\"Silhouette Coefficient\")\n",
    "plt.show()"
   ]
  },
  {
   "cell_type": "code",
   "execution_count": 89,
   "metadata": {},
   "outputs": [
    {
     "name": "stdout",
     "output_type": "stream",
     "text": [
      "Multi-Class Log-Rank P: 0.212687716955063\n",
      "Kaplan Meier Plot constructed\n",
      "Multi-Class Log-Rank P: 0.6165583470574778\n",
      "Kaplan Meier Plot constructed\n",
      "Multi-Class Log-Rank P: 0.8343451370115686\n",
      "Kaplan Meier Plot constructed\n",
      "Multi-Class Log-Rank P: 0.8047441334012468\n",
      "Kaplan Meier Plot constructed\n",
      "Multi-Class Log-Rank P: 0.8421649012107221\n",
      "Kaplan Meier Plot constructed\n",
      "0.212687716955063\n",
      "0.6165583470574778\n",
      "0.8343451370115686\n",
      "0.8047441334012468\n",
      "0.8421649012107221\n"
     ]
    }
   ],
   "source": [
    "pval = []\n",
    "for i in range(2,7):\n",
    "    clust = SpectralClustering(n_clusters=i)\n",
    "    clust.fit(enc)\n",
    "    pred = pd.DataFrame(clust.labels_,index =enc.index) \n",
    "    cluster_assign = pd.DataFrame([enc.index,clust.labels_]).T\n",
    "    cluster_assign.columns = [\"patient\", \"subtype\"]\n",
    "    cluster_assign = cluster_assign.drop_duplicates(subset=[\"patient\"], keep=\"first\")\n",
    "    # print(cluster_assign)\n",
    "    cluster_assign=cluster_assign.set_index(\"patient\")\n",
    "    clust_asgn = cluster_assign.subtype\n",
    "    pval.append(cluster_KMplot(clust_asgn, surv_file, delimiter=','))\n",
    "for i in pval:\n",
    "    print(i)"
   ]
  },
  {
   "cell_type": "markdown",
   "metadata": {},
   "source": [
    "## Gaussian Mixture"
   ]
  },
  {
   "cell_type": "code",
   "execution_count": 94,
   "metadata": {},
   "outputs": [
    {
     "name": "stdout",
     "output_type": "stream",
     "text": [
      "(251, 2)\n",
      "Multi-Class Log-Rank P: 0.44040775255732145\n",
      "Kaplan Meier Plot constructed\n"
     ]
    },
    {
     "data": {
      "text/plain": [
       "0.44040775255732145"
      ]
     },
     "execution_count": 94,
     "metadata": {},
     "output_type": "execute_result"
    }
   ],
   "source": [
    "X = np.array(enc)\n",
    "# dist = gower.gower_matrix(enc)\n",
    "# X = dist\n",
    "print(X.shape)\n",
    "model = GaussianMixture(n_components=3)\n",
    "yhat = model.fit_predict(X)\n",
    "pred = pd.DataFrame(yhat,index =enc.index) \n",
    "clusters = unique(yhat)\n",
    "for cluster in clusters:\n",
    "    row_ix = where(yhat == cluster)\n",
    "    pyplot.scatter(X[row_ix, 0], X[row_ix, 1])\n",
    "pyplot.show()\n",
    "\n",
    "\n",
    "cluster_assign = pd.DataFrame([enc.index,yhat]).T\n",
    "cluster_assign.columns = [\"patient\", \"subtype\"]\n",
    "cluster_assign = cluster_assign.drop_duplicates(subset=[\"patient\"], keep=\"first\")\n",
    "cluster_assign=cluster_assign.set_index(\"patient\")\n",
    "clust_asgn = cluster_assign.subtype\n",
    "cluster_KMplot(clust_asgn, surv_file, delimiter=',')"
   ]
  },
  {
   "cell_type": "code",
   "execution_count": 95,
   "metadata": {},
   "outputs": [
    {
     "name": "stdout",
     "output_type": "stream",
     "text": [
      "0.39668582244744094\n",
      "0.4264138952685164\n",
      "0.4013587775793436\n",
      "0.37503831110677455\n",
      "0.3914058669859992\n"
     ]
    }
   ],
   "source": [
    "silhouette_coefficients = []\n",
    "for k in range(2, 7):\n",
    "    clust = GaussianMixture(n_components=k)\n",
    "    yhat = clust.fit_predict(X)\n",
    "    score = silhouette_score(enc, yhat)\n",
    "    silhouette_coefficients.append(score)\n",
    "    print(score)\n",
    "    \n",
    "\n",
    "plt.plot(range(2, 7), silhouette_coefficients)\n",
    "plt.xticks(range(2, 7))\n",
    "plt.xlabel(\"Number of Clusters\")\n",
    "plt.ylabel(\"Silhouette Coefficient\")\n",
    "plt.show()"
   ]
  },
  {
   "cell_type": "code",
   "execution_count": null,
   "metadata": {},
   "outputs": [],
   "source": [
    "pval = []\n",
    "for i in range(2,7):\n",
    "    clust = GaussianMixture(n_components=k)\n",
    "    clust.fit(enc)\n",
    "    pred = pd.DataFrame(clust.labels_,index =enc.index) \n",
    "    cluster_assign = pd.DataFrame([enc.index,clust.labels_]).T\n",
    "    cluster_assign.columns = [\"patient\", \"subtype\"]\n",
    "    cluster_assign = cluster_assign.drop_duplicates(subset=[\"patient\"], keep=\"first\")\n",
    "    # print(cluster_assign)\n",
    "    cluster_assign=cluster_assign.set_index(\"patient\")\n",
    "    clust_asgn = cluster_assign.subtype\n",
    "    pval.append(cluster_KMplot(clust_asgn, surv_file, delimiter=','))\n",
    "for i in pval:\n",
    "    print(i)"
   ]
  }
 ],
 "metadata": {
  "kernelspec": {
   "display_name": "Python 3 (ipykernel)",
   "language": "python",
   "name": "python3"
  },
  "language_info": {
   "codemirror_mode": {
    "name": "ipython",
    "version": 3
   },
   "file_extension": ".py",
   "mimetype": "text/x-python",
   "name": "python",
   "nbconvert_exporter": "python",
   "pygments_lexer": "ipython3",
   "version": "3.9.12"
  }
 },
 "nbformat": 4,
 "nbformat_minor": 4
}
