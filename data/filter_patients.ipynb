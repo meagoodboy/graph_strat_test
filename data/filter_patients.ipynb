{
 "cells": [
  {
   "cell_type": "code",
   "execution_count": 1,
   "id": "e957dd64-969f-4a68-a9ad-180432a558d0",
   "metadata": {},
   "outputs": [],
   "source": [
    "import pandas as pd"
   ]
  },
  {
   "cell_type": "code",
   "execution_count": 35,
   "id": "b35a3941-77df-4dd5-b95b-f024c4a4a026",
   "metadata": {},
   "outputs": [],
   "source": [
    "enc_file = \"../../KIRP_SM/main/KIRP_sm_miss.csv\"\n",
    "clinical_file = \"../../kirp_clin.csv\"\n",
    "survival_file = \"../../survival_KIRP.csv\""
   ]
  },
  {
   "cell_type": "code",
   "execution_count": 36,
   "id": "f1e306eb-9ca2-4bc3-b99a-3c3a84b98f9b",
   "metadata": {},
   "outputs": [],
   "source": [
    "enc = pd.read_csv(enc_file, index_col=0)\n",
    "enc = enc[~enc.index.duplicated(keep='first')]\n",
    "clin = pd.read_csv(clinical_file, index_col=0)\n",
    "surv = pd.read_csv(survival_file, index_col=0)"
   ]
  },
  {
   "cell_type": "code",
   "execution_count": 37,
   "id": "b1f78563-7ac8-476d-8ac7-f1b53779cd7d",
   "metadata": {},
   "outputs": [],
   "source": [
    "all_pat_enc = set(enc.index)\n",
    "all_pat_surv = set(surv.index) "
   ]
  },
  {
   "cell_type": "code",
   "execution_count": 38,
   "id": "3a89e162-ca7c-4984-9180-8bf8ca9646aa",
   "metadata": {},
   "outputs": [],
   "source": [
    "selected_rows = clin[~clin['ajcc_pathologic_stage'].isnull()]\n",
    "all_pat_clin = set(selected_rows.index)"
   ]
  },
  {
   "cell_type": "code",
   "execution_count": 39,
   "id": "c1be7dd9-9b29-451c-bb5d-4a383e148704",
   "metadata": {},
   "outputs": [],
   "source": [
    "common = all_pat_clin.intersection(all_pat_enc).intersection(all_pat_surv)"
   ]
  },
  {
   "cell_type": "code",
   "execution_count": 40,
   "id": "33a7c6ad-4c35-4fb2-b205-aa7102f69af9",
   "metadata": {},
   "outputs": [
    {
     "name": "stdout",
     "output_type": "stream",
     "text": [
      "251\n"
     ]
    }
   ],
   "source": [
    "common = list(common)\n",
    "print(len(common))"
   ]
  },
  {
   "cell_type": "code",
   "execution_count": 41,
   "id": "c63f99af-2be8-4b0a-a227-b296ce251dbc",
   "metadata": {},
   "outputs": [],
   "source": [
    "filtered_enc = enc.loc[common, :]"
   ]
  },
  {
   "cell_type": "code",
   "execution_count": 42,
   "id": "48010a9a-ad8d-428f-803c-e6904f0468eb",
   "metadata": {},
   "outputs": [],
   "source": [
    "filtered_enc.to_csv(\"./raw/kirp_sm_miss251.csv\")"
   ]
  },
  {
   "cell_type": "code",
   "execution_count": null,
   "id": "a5b0e401-2d29-48fd-b9b3-f6a6a1bc9339",
   "metadata": {},
   "outputs": [],
   "source": []
  }
 ],
 "metadata": {
  "kernelspec": {
   "display_name": "Python 3 (ipykernel)",
   "language": "python",
   "name": "python3"
  },
  "language_info": {
   "codemirror_mode": {
    "name": "ipython",
    "version": 3
   },
   "file_extension": ".py",
   "mimetype": "text/x-python",
   "name": "python",
   "nbconvert_exporter": "python",
   "pygments_lexer": "ipython3",
   "version": "3.9.12"
  }
 },
 "nbformat": 4,
 "nbformat_minor": 5
}
