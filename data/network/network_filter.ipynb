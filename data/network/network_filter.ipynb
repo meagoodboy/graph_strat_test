{
 "cells": [
  {
   "cell_type": "code",
   "execution_count": 20,
   "id": "27591759-0028-44e1-9ab4-2d1ccd51b2a9",
   "metadata": {},
   "outputs": [],
   "source": [
    "import pandas as pd\n",
    "import networkx as nx"
   ]
  },
  {
   "cell_type": "code",
   "execution_count": 34,
   "id": "94e24c1a-3bc9-48cc-b158-06cf0cc1c7c8",
   "metadata": {},
   "outputs": [],
   "source": [
    "enc_file = \"../raw/kirp_sm_miss251.csv\"\n",
    "network_file = \"CancerSubnetwork.txt\"\n",
    "output_file = enc_file[:-4] "
   ]
  },
  {
   "cell_type": "code",
   "execution_count": 35,
   "id": "958d58b6-e68a-4ab5-aead-af24dbe2e4a2",
   "metadata": {},
   "outputs": [],
   "source": [
    "enc = pd.read_csv(enc_file, index_col=0)\n",
    "network = nx.read_adjlist(network_file, create_using=nx.Graph)"
   ]
  },
  {
   "cell_type": "code",
   "execution_count": 36,
   "id": "438b7eea-0828-45c7-9333-9631ea4d47ed",
   "metadata": {},
   "outputs": [],
   "source": [
    "patient_cols = set(enc.columns)\n",
    "common_cols = patient_cols.intersection(network.nodes)\n",
    "modified_binary_mat = enc[common_cols]"
   ]
  },
  {
   "cell_type": "code",
   "execution_count": 37,
   "id": "a527e111-0d06-4a20-8ef4-2eb19d7b2fa4",
   "metadata": {},
   "outputs": [],
   "source": [
    "diff_cols = []\n",
    "for i in network.nodes:\n",
    "    if i not in common_cols:\n",
    "        diff_cols.append(i)"
   ]
  },
  {
   "cell_type": "code",
   "execution_count": 38,
   "id": "250758a2-fa82-4bf5-b682-c47a53657398",
   "metadata": {},
   "outputs": [],
   "source": [
    "x = pd.DataFrame(index = modified_binary_mat.index, columns=diff_cols).fillna(0)"
   ]
  },
  {
   "cell_type": "code",
   "execution_count": 39,
   "id": "7fbc7a66-8e60-4c14-896e-32354f3d49c9",
   "metadata": {},
   "outputs": [],
   "source": [
    "result = pd.concat([modified_binary_mat, x], axis=1)"
   ]
  },
  {
   "cell_type": "code",
   "execution_count": 40,
   "id": "8b55c445-17e7-494a-9e74-5da178297a11",
   "metadata": {},
   "outputs": [],
   "source": [
    "result.to_csv(output_file + \"_csn.csv\")"
   ]
  },
  {
   "cell_type": "code",
   "execution_count": null,
   "id": "2522113e-d7e2-49f0-bf9d-5f272ea20de6",
   "metadata": {},
   "outputs": [],
   "source": []
  }
 ],
 "metadata": {
  "kernelspec": {
   "display_name": "Python 3 (ipykernel)",
   "language": "python",
   "name": "python3"
  },
  "language_info": {
   "codemirror_mode": {
    "name": "ipython",
    "version": 3
   },
   "file_extension": ".py",
   "mimetype": "text/x-python",
   "name": "python",
   "nbconvert_exporter": "python",
   "pygments_lexer": "ipython3",
   "version": "3.9.12"
  }
 },
 "nbformat": 4,
 "nbformat_minor": 5
}
