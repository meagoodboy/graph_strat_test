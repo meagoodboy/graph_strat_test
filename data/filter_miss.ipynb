{
 "cells": [
  {
   "cell_type": "code",
   "execution_count": 1,
   "id": "762f01f0-547a-4f8f-9b25-34028b89d748",
   "metadata": {},
   "outputs": [],
   "source": [
    "import pandas as pd"
   ]
  },
  {
   "cell_type": "code",
   "execution_count": 11,
   "id": "a8214570-2a0f-4a83-9c17-912b81845f84",
   "metadata": {},
   "outputs": [],
   "source": [
    "enc_file = \"./raw/kirp_sm251.csv\" "
   ]
  },
  {
   "cell_type": "code",
   "execution_count": 7,
   "id": "2fb34256-4806-4a40-b215-a4b595e8c29c",
   "metadata": {},
   "outputs": [],
   "source": [
    "enc = pd.read_csv(enc_file, index_col=0) \n",
    "clin = pd.read_csv(clinical_file, index_col=0)"
   ]
  },
  {
   "cell_type": "markdown",
   "id": "1a40457b-d601-4d0f-b91b-ba13eb8a95a4",
   "metadata": {},
   "source": [
    "## DO it later"
   ]
  },
  {
   "cell_type": "code",
   "execution_count": 10,
   "id": "0f1329ca-d8aa-4cd0-b461-90bb04d2abfc",
   "metadata": {},
   "outputs": [
    {
     "data": {
      "text/plain": [
       "TCGA-MH-A854    8260/3\n",
       "TCGA-A4-A48D    8260/3\n",
       "TCGA-B1-5398    8260/3\n",
       "TCGA-SX-A7SR    8260/3\n",
       "TCGA-Q2-A5QZ    8260/3\n",
       "                 ...  \n",
       "TCGA-2Z-A9JL    8260/3\n",
       "TCGA-SX-A71S    8260/3\n",
       "TCGA-O9-A75Z    8260/3\n",
       "TCGA-A4-8630    8260/3\n",
       "TCGA-B9-A5W8    8260/3\n",
       "Name: morphology, Length: 291, dtype: object"
      ]
     },
     "execution_count": 10,
     "metadata": {},
     "output_type": "execute_result"
    }
   ],
   "source": []
  },
  {
   "cell_type": "code",
   "execution_count": null,
   "id": "c015d239-0082-455d-96ae-52f11437a6fb",
   "metadata": {},
   "outputs": [],
   "source": []
  }
 ],
 "metadata": {
  "kernelspec": {
   "display_name": "Python 3 (ipykernel)",
   "language": "python",
   "name": "python3"
  },
  "language_info": {
   "codemirror_mode": {
    "name": "ipython",
    "version": 3
   },
   "file_extension": ".py",
   "mimetype": "text/x-python",
   "name": "python",
   "nbconvert_exporter": "python",
   "pygments_lexer": "ipython3",
   "version": "3.9.12"
  }
 },
 "nbformat": 4,
 "nbformat_minor": 5
}
