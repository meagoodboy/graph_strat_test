{
 "cells": [
  {
   "cell_type": "code",
   "execution_count": 1,
   "id": "2f984aa3-6ca3-4c7e-b85c-7366b9a09629",
   "metadata": {},
   "outputs": [
    {
     "name": "stderr",
     "output_type": "stream",
     "text": [
      "/home2/aswin/miniconda3/envs/pyg/lib/python3.9/site-packages/tqdm/auto.py:22: TqdmWarning: IProgress not found. Please update jupyter and ipywidgets. See https://ipywidgets.readthedocs.io/en/stable/user_install.html\n",
      "  from .autonotebook import tqdm as notebook_tqdm\n"
     ]
    }
   ],
   "source": [
    "import torch\n",
    "import os\n",
    "from torch_geometric.data import Data\n",
    "import pandas as pd\n",
    "import numpy as np\n",
    "from torchvision.transforms import ToTensor\n",
    "from torch_geometric.loader import DataLoader\n",
    "from tqdm.auto import trange, tqdm\n",
    "from torch_geometric import seed_everything\n",
    "import torchvision"
   ]
  },
  {
   "cell_type": "code",
   "execution_count": 2,
   "id": "bade54a3-132f-41b4-8e56-5075cafcc3b2",
   "metadata": {},
   "outputs": [],
   "source": [
    "# import wandb\n",
    "# wandb.login()"
   ]
  },
  {
   "cell_type": "code",
   "execution_count": 3,
   "id": "bb54fb48-a3f2-40e3-9293-10d898ff8d5d",
   "metadata": {},
   "outputs": [],
   "source": [
    "from encoder_models import *\n",
    "from node_decoder_models import *\n",
    "from test_train_validate import *\n",
    "from data_processing.process_data import *\n",
    "from utils import *\n",
    "from wrappers import *"
   ]
  },
  {
   "cell_type": "code",
   "execution_count": 4,
   "id": "4407a58a-e1dd-45da-8fb6-1c41641ee862",
   "metadata": {},
   "outputs": [
    {
     "name": "stdout",
     "output_type": "stream",
     "text": [
      "cuda:1\n"
     ]
    }
   ],
   "source": [
    "device = torch.device(\"cuda:1\" if torch.cuda.is_available() else \"cpu\")\n",
    "print(device)"
   ]
  },
  {
   "cell_type": "code",
   "execution_count": 5,
   "id": "4d24ad78-7a80-44ff-b301-c1787f0677b6",
   "metadata": {},
   "outputs": [],
   "source": [
    "clear_cache()"
   ]
  },
  {
   "cell_type": "code",
   "execution_count": 6,
   "id": "9c4b9cac-ada8-4288-bbc4-65087ddfee5d",
   "metadata": {},
   "outputs": [],
   "source": [
    "seed_everything(36912)"
   ]
  },
  {
   "cell_type": "code",
   "execution_count": 7,
   "id": "b49af179-a441-490d-9787-fdd8cc0e7a60",
   "metadata": {},
   "outputs": [],
   "source": [
    "omics_file = \"../data/raw/sm/kirp_sm251_csn.csv\"\n",
    "network_file = \"../data/network/CancerSubnetwork.txt\"\n",
    "\n",
    "learning_rate = 3e-4\n",
    "num_features = 1\n",
    "out_channels = 1\n",
    "num_epochs = 1\n",
    "batch_size = 2\n",
    "alpha = 1\n",
    "beta = 0.5\n",
    "\n",
    "cancer = \"KIRP\"\n",
    "omic = \"SM\"\n",
    "gmodel = \"L3EGConv\"\n",
    "optim = \"ADAM\"\n",
    "\n",
    "savefolder = \"./new_res/\" + cancer + \"/\" + omic + \"/\" + gmodel + \"/\" +  optim + \"_\" + str(learning_rate) +\"/\"\n",
    "savemodels = \"./new_mod/\" + cancer + \"/\" + omic + \"/\" + gmodel + \"/\" + optim + \"_\" +  str(learning_rate) +\"/\"\n",
    "savename = cancer + \"_\" + omic + \"_\" + gmodel + \"_\" + optim + \"_\" + str(learning_rate) +\"_\"\n",
    "\n",
    "savename = savemodels + savename \n",
    "summaryin = savemodels + \"runs\"\n",
    "bestmodel = savename + \"bestmodel.pt\"\n",
    "finalmodel = savename + \"model.pt\" \n",
    "configf = savename + \"config.yml\" \n",
    "fencsave = savefolder + \"final.csv\"\n",
    "bencsave = savefolder + \"best.csv\"\n",
    "\n",
    "if not os.path.exists(savefolder):\n",
    "    os.makedirs(savefolder)\n",
    "if not os.path.exists(savemodels):\n",
    "    os.makedirs(savemodels)"
   ]
  },
  {
   "cell_type": "code",
   "execution_count": 8,
   "id": "fc78d545-b445-47c5-a5a6-53538fd5af10",
   "metadata": {
    "tags": []
   },
   "outputs": [],
   "source": [
    "# wandb.init(project=\"TEST1_KIRP_GCNM2\")\n",
    "\n",
    "# cfg = wandb.config\n",
    "# cfg.update({\"epochs\" : num_epochs, \"batch_size\": batch_size, \"lr\" : learning_rate,\"optim\" : optim,\"data_type\" : omic , \"cancer\" : cancer,\"save\":savefolder,\"model_type\":gmodel})"
   ]
  },
  {
   "cell_type": "code",
   "execution_count": 13,
   "id": "4a9e2704-2bc6-46cf-8c38-038878448523",
   "metadata": {},
   "outputs": [],
   "source": [
    "# data = SingleOmicData(network_file, omics_file, 1)\n",
    "# num_nodes = len(data.node_order)"
   ]
  },
  {
   "cell_type": "code",
   "execution_count": 14,
   "id": "e1ac4065-5b98-45da-865b-3572da1e7ea7",
   "metadata": {},
   "outputs": [],
   "source": [
    "train_size = int(0.8 * len(data))\n",
    "x,y = torch.utils.data.random_split(data, lengths=[train_size, len(data) - train_size], generator=torch.Generator())"
   ]
  },
  {
   "cell_type": "code",
   "execution_count": 15,
   "id": "12d1b118-a797-4f5b-94dd-10190c0a6276",
   "metadata": {},
   "outputs": [],
   "source": [
    "train_loader = DataLoader(x, shuffle=True, batch_size=batch_size,num_workers=8)\n",
    "val_loader = DataLoader(y, shuffle=True, batch_size=batch_size, num_workers=8)\n",
    "encode_loader = DataLoader(data, shuffle=False, batch_size=1)"
   ]
  },
  {
   "cell_type": "code",
   "execution_count": 16,
   "id": "baba217c-e488-4678-a876-4bd0ff82dbeb",
   "metadata": {},
   "outputs": [],
   "source": [
    "model = GAEM( encoder = get_encoder(gmodel,in_channels = num_features, out_channels = out_channels),\n",
    "             node_decoder = L2Linear(out_channels = out_channels, num_nodes = num_nodes, batch_size=batch_size) )"
   ]
  },
  {
   "cell_type": "code",
   "execution_count": 17,
   "id": "6a539002-5486-4d0e-857a-3d151da9c10d",
   "metadata": {},
   "outputs": [],
   "source": [
    "model = model.to(device)"
   ]
  },
  {
   "cell_type": "code",
   "execution_count": 18,
   "id": "520382f7-5c04-4505-aca4-4bae77260123",
   "metadata": {},
   "outputs": [
    {
     "name": "stdout",
     "output_type": "stream",
     "text": [
      "Sun Nov 13 00:55:37 2022       \n",
      "+-----------------------------------------------------------------------------+\n",
      "| NVIDIA-SMI 510.85.02    Driver Version: 510.85.02    CUDA Version: 11.6     |\n",
      "|-------------------------------+----------------------+----------------------+\n",
      "| GPU  Name        Persistence-M| Bus-Id        Disp.A | Volatile Uncorr. ECC |\n",
      "| Fan  Temp  Perf  Pwr:Usage/Cap|         Memory-Usage | GPU-Util  Compute M. |\n",
      "|                               |                      |               MIG M. |\n",
      "|===============================+======================+======================|\n",
      "|   0  NVIDIA GeForce ...  Off  | 00000000:02:00.0 Off |                  N/A |\n",
      "| 36%   31C    P8    22W / 250W |      3MiB / 11264MiB |      0%      Default |\n",
      "|                               |                      |                  N/A |\n",
      "+-------------------------------+----------------------+----------------------+\n",
      "|   1  NVIDIA GeForce ...  Off  | 00000000:82:00.0 Off |                  N/A |\n",
      "| 36%   32C    P2    47W / 250W |   1364MiB / 11264MiB |      4%      Default |\n",
      "|                               |                      |                  N/A |\n",
      "+-------------------------------+----------------------+----------------------+\n",
      "                                                                               \n",
      "+-----------------------------------------------------------------------------+\n",
      "| Processes:                                                                  |\n",
      "|  GPU   GI   CI        PID   Type   Process name                  GPU Memory |\n",
      "|        ID   ID                                                   Usage      |\n",
      "|=============================================================================|\n",
      "|    1   N/A  N/A     21987      C   ...a3/envs/pyg/bin/python3.9     1361MiB |\n",
      "+-----------------------------------------------------------------------------+\n"
     ]
    }
   ],
   "source": [
    "!nvidia-smi"
   ]
  },
  {
   "cell_type": "code",
   "execution_count": 19,
   "id": "f51b5d8c-7b26-434b-8492-a80e0c0c324f",
   "metadata": {},
   "outputs": [
    {
     "name": "stdout",
     "output_type": "stream",
     "text": [
      "total parameters in the model :  10527893\n",
      "total parameters in the encoder :  21367\n",
      "total parameters in the node_decoder :  10506526\n",
      "total parameters in the decoder :  0\n"
     ]
    }
   ],
   "source": [
    "print(\"total parameters in the model : \", calculate_num_params(model))\n",
    "print(\"total parameters in the encoder : \", calculate_num_params(model.encoder))\n",
    "print(\"total parameters in the node_decoder : \", calculate_num_params(model.node_decoder))\n",
    "print(\"total parameters in the decoder : \", calculate_num_params(model.decoder))"
   ]
  },
  {
   "cell_type": "code",
   "execution_count": 20,
   "id": "070459dc-4bb2-495b-8fb1-09ed25d2ff6f",
   "metadata": {},
   "outputs": [
    {
     "data": {
      "text/plain": [
       "GAEM(\n",
       "  (encoder): L3EGConv(\n",
       "    (conv1): EGConv(1, 100, aggregators=['symnorm'])\n",
       "    (conv2): EGConv(100, 50, aggregators=['symnorm'])\n",
       "    (conv3): EGConv(50, 1, aggregators=['symnorm'])\n",
       "    (drop): Dropout(p=0.1, inplace=False)\n",
       "  )\n",
       "  (node_decoder): L2Linear(\n",
       "    (feat_lin): Sequential(\n",
       "      (0): Linear(in_features=2291, out_features=2291, bias=True)\n",
       "      (1): BatchNorm1d(2291, eps=1e-05, momentum=0.1, affine=True, track_running_stats=True)\n",
       "      (2): ReLU()\n",
       "      (3): Linear(in_features=2291, out_features=2291, bias=True)\n",
       "    )\n",
       "  )\n",
       "  (decoder): InnerProductDecoder()\n",
       ")"
      ]
     },
     "execution_count": 20,
     "metadata": {},
     "output_type": "execute_result"
    }
   ],
   "source": [
    "model"
   ]
  },
  {
   "cell_type": "code",
   "execution_count": 21,
   "id": "30bc1733-91d9-4739-a8bb-63fb44fc4427",
   "metadata": {},
   "outputs": [],
   "source": [
    "optimizer = torch.optim.Adam(model.parameters(), lr=learning_rate)"
   ]
  },
  {
   "cell_type": "code",
   "execution_count": 22,
   "id": "372c5cc0-a73c-4438-b078-370d64ea4939",
   "metadata": {},
   "outputs": [],
   "source": [
    "lossfn = torchvision.ops.focal_loss.sigmoid_focal_loss"
   ]
  },
  {
   "cell_type": "code",
   "execution_count": 23,
   "id": "6dc0db75-8421-4e02-bdb5-a5a6806a7e6e",
   "metadata": {},
   "outputs": [
    {
     "name": "stdout",
     "output_type": "stream",
     "text": [
      "Epoch :  1  /  1\n"
     ]
    },
    {
     "name": "stderr",
     "output_type": "stream",
     "text": [
      "100%|██████████| 100/100 [00:43<00:00,  2.32it/s]\n"
     ]
    },
    {
     "name": "stdout",
     "output_type": "stream",
     "text": [
      "Train Loss :  0.019447598982369526 1.3862909173965454 1.4057385087013246\n"
     ]
    },
    {
     "name": "stderr",
     "output_type": "stream",
     "text": [
      "100%|██████████| 26/26 [00:11<00:00,  2.21it/s]"
     ]
    },
    {
     "name": "stdout",
     "output_type": "stream",
     "text": [
      "Validation Loss :    1.4498558044433594\n"
     ]
    },
    {
     "name": "stderr",
     "output_type": "stream",
     "text": [
      "\n"
     ]
    }
   ],
   "source": [
    "all_val_loss = []\n",
    "for e in range(num_epochs):\n",
    "    \n",
    "    print(\"Epoch : \", e + 1,  \" / \" , num_epochs)\n",
    "    \n",
    "    train_loss = train(model,train_loader,optimizer, device,lossfn )\n",
    "    val_loss = validate(model,val_loader,device, lossfn)\n",
    "    all_val_loss.append(val_loss)\n",
    "    # wandb.log({\"validation loss\" : val_loss,\"train loss\" : train_loss})\n",
    "    \n",
    "    if e > 10:\n",
    "        if val_loss < min(all_val_loss):\n",
    "            torch.save(model.state_dict(), bestmodel)\n",
    "            print(\"Saved best model weights\")\n",
    "    \n",
    "    if (e+1) % 20 == 0:\n",
    "        print(\"Saving Model\")\n",
    "        torch.save(model.state_dict(), finalmodel)\n",
    "\n",
    "# wandb.finish()"
   ]
  },
  {
   "cell_type": "code",
   "execution_count": 24,
   "id": "9123a933-73d7-40b1-8356-1b2c21ac8708",
   "metadata": {},
   "outputs": [
    {
     "name": "stderr",
     "output_type": "stream",
     "text": [
      "100%|██████████| 251/251 [00:02<00:00, 95.87it/s] \n"
     ]
    }
   ],
   "source": [
    "final_vectors = encode(model,encode_loader,device)\n",
    "final_vectors = np.array(final_vectors).reshape(len(data.patients), -1)"
   ]
  },
  {
   "cell_type": "code",
   "execution_count": 25,
   "id": "73bea1da-d37e-482b-8278-b23e7e1d15ef",
   "metadata": {},
   "outputs": [],
   "source": [
    "final_df = pd.DataFrame(final_vectors, index=data.patients, columns = data.node_order)\n",
    "# final_df.to_csv(fencsave)"
   ]
  },
  {
   "cell_type": "code",
   "execution_count": 26,
   "id": "569d937b-b76c-4301-9ed6-3b8f78269401",
   "metadata": {},
   "outputs": [
    {
     "data": {
      "text/html": [
       "<div>\n",
       "<style scoped>\n",
       "    .dataframe tbody tr th:only-of-type {\n",
       "        vertical-align: middle;\n",
       "    }\n",
       "\n",
       "    .dataframe tbody tr th {\n",
       "        vertical-align: top;\n",
       "    }\n",
       "\n",
       "    .dataframe thead th {\n",
       "        text-align: right;\n",
       "    }\n",
       "</style>\n",
       "<table border=\"1\" class=\"dataframe\">\n",
       "  <thead>\n",
       "    <tr style=\"text-align: right;\">\n",
       "      <th></th>\n",
       "      <th>HSPA2</th>\n",
       "      <th>RPN1</th>\n",
       "      <th>GK2</th>\n",
       "      <th>HSPA6</th>\n",
       "      <th>PPP3R1</th>\n",
       "      <th>DLG1</th>\n",
       "      <th>YWHAH</th>\n",
       "      <th>HIST1H4I</th>\n",
       "      <th>HSPA8</th>\n",
       "      <th>PCSK6</th>\n",
       "      <th>...</th>\n",
       "      <th>JMJD7-PLA2G4B</th>\n",
       "      <th>MALAT1</th>\n",
       "      <th>REG3G</th>\n",
       "      <th>NUTM2A</th>\n",
       "      <th>TRB</th>\n",
       "      <th>IGL</th>\n",
       "      <th>HES3</th>\n",
       "      <th>CCL15</th>\n",
       "      <th>CCL4L2</th>\n",
       "      <th>SCUBE1</th>\n",
       "    </tr>\n",
       "  </thead>\n",
       "  <tbody>\n",
       "    <tr>\n",
       "      <th>TCGA-B9-A8YI</th>\n",
       "      <td>0.01183</td>\n",
       "      <td>0.012383</td>\n",
       "      <td>0.012383</td>\n",
       "      <td>0.013066</td>\n",
       "      <td>0.012407</td>\n",
       "      <td>0.012407</td>\n",
       "      <td>0.013058</td>\n",
       "      <td>0.012407</td>\n",
       "      <td>0.013788</td>\n",
       "      <td>0.012383</td>\n",
       "      <td>...</td>\n",
       "      <td>0.010676</td>\n",
       "      <td>0.010430</td>\n",
       "      <td>0.010462</td>\n",
       "      <td>0.010775</td>\n",
       "      <td>0.010567</td>\n",
       "      <td>0.011374</td>\n",
       "      <td>0.010571</td>\n",
       "      <td>0.010365</td>\n",
       "      <td>0.010454</td>\n",
       "      <td>0.010388</td>\n",
       "    </tr>\n",
       "    <tr>\n",
       "      <th>TCGA-UZ-A9PK</th>\n",
       "      <td>0.01183</td>\n",
       "      <td>0.012383</td>\n",
       "      <td>0.012383</td>\n",
       "      <td>0.013066</td>\n",
       "      <td>0.012407</td>\n",
       "      <td>0.012407</td>\n",
       "      <td>0.013058</td>\n",
       "      <td>0.012407</td>\n",
       "      <td>0.013788</td>\n",
       "      <td>0.012383</td>\n",
       "      <td>...</td>\n",
       "      <td>0.010735</td>\n",
       "      <td>0.010464</td>\n",
       "      <td>0.010471</td>\n",
       "      <td>0.010823</td>\n",
       "      <td>0.010563</td>\n",
       "      <td>0.011373</td>\n",
       "      <td>0.010591</td>\n",
       "      <td>0.010367</td>\n",
       "      <td>0.010478</td>\n",
       "      <td>0.010424</td>\n",
       "    </tr>\n",
       "    <tr>\n",
       "      <th>TCGA-Y8-A897</th>\n",
       "      <td>0.01183</td>\n",
       "      <td>0.012383</td>\n",
       "      <td>0.012383</td>\n",
       "      <td>0.013066</td>\n",
       "      <td>0.012407</td>\n",
       "      <td>0.012407</td>\n",
       "      <td>0.013058</td>\n",
       "      <td>0.012407</td>\n",
       "      <td>0.013788</td>\n",
       "      <td>0.012383</td>\n",
       "      <td>...</td>\n",
       "      <td>0.010654</td>\n",
       "      <td>0.010418</td>\n",
       "      <td>0.010449</td>\n",
       "      <td>0.010775</td>\n",
       "      <td>0.010555</td>\n",
       "      <td>0.011378</td>\n",
       "      <td>0.010557</td>\n",
       "      <td>0.010351</td>\n",
       "      <td>0.010437</td>\n",
       "      <td>0.010378</td>\n",
       "    </tr>\n",
       "    <tr>\n",
       "      <th>TCGA-2Z-A9J3</th>\n",
       "      <td>0.01183</td>\n",
       "      <td>0.012383</td>\n",
       "      <td>0.012383</td>\n",
       "      <td>0.013066</td>\n",
       "      <td>0.012407</td>\n",
       "      <td>0.012407</td>\n",
       "      <td>0.013058</td>\n",
       "      <td>0.012407</td>\n",
       "      <td>0.013788</td>\n",
       "      <td>0.012383</td>\n",
       "      <td>...</td>\n",
       "      <td>0.010684</td>\n",
       "      <td>0.010432</td>\n",
       "      <td>0.010461</td>\n",
       "      <td>0.010803</td>\n",
       "      <td>0.010564</td>\n",
       "      <td>0.011374</td>\n",
       "      <td>0.010593</td>\n",
       "      <td>0.010359</td>\n",
       "      <td>0.010452</td>\n",
       "      <td>0.010400</td>\n",
       "    </tr>\n",
       "    <tr>\n",
       "      <th>TCGA-UZ-A9PN</th>\n",
       "      <td>0.01183</td>\n",
       "      <td>0.012383</td>\n",
       "      <td>0.012383</td>\n",
       "      <td>0.013066</td>\n",
       "      <td>0.012407</td>\n",
       "      <td>0.012407</td>\n",
       "      <td>0.013058</td>\n",
       "      <td>0.012407</td>\n",
       "      <td>0.013788</td>\n",
       "      <td>0.012383</td>\n",
       "      <td>...</td>\n",
       "      <td>0.010667</td>\n",
       "      <td>0.010423</td>\n",
       "      <td>0.010454</td>\n",
       "      <td>0.010785</td>\n",
       "      <td>0.010562</td>\n",
       "      <td>0.011373</td>\n",
       "      <td>0.010568</td>\n",
       "      <td>0.010351</td>\n",
       "      <td>0.010446</td>\n",
       "      <td>0.010387</td>\n",
       "    </tr>\n",
       "    <tr>\n",
       "      <th>...</th>\n",
       "      <td>...</td>\n",
       "      <td>...</td>\n",
       "      <td>...</td>\n",
       "      <td>...</td>\n",
       "      <td>...</td>\n",
       "      <td>...</td>\n",
       "      <td>...</td>\n",
       "      <td>...</td>\n",
       "      <td>...</td>\n",
       "      <td>...</td>\n",
       "      <td>...</td>\n",
       "      <td>...</td>\n",
       "      <td>...</td>\n",
       "      <td>...</td>\n",
       "      <td>...</td>\n",
       "      <td>...</td>\n",
       "      <td>...</td>\n",
       "      <td>...</td>\n",
       "      <td>...</td>\n",
       "      <td>...</td>\n",
       "      <td>...</td>\n",
       "    </tr>\n",
       "    <tr>\n",
       "      <th>TCGA-BQ-7053</th>\n",
       "      <td>0.01183</td>\n",
       "      <td>0.012383</td>\n",
       "      <td>0.012383</td>\n",
       "      <td>0.013066</td>\n",
       "      <td>0.012407</td>\n",
       "      <td>0.012407</td>\n",
       "      <td>0.013058</td>\n",
       "      <td>0.012407</td>\n",
       "      <td>0.013788</td>\n",
       "      <td>0.012383</td>\n",
       "      <td>...</td>\n",
       "      <td>0.010662</td>\n",
       "      <td>0.010423</td>\n",
       "      <td>0.010450</td>\n",
       "      <td>0.010786</td>\n",
       "      <td>0.010556</td>\n",
       "      <td>0.011376</td>\n",
       "      <td>0.010561</td>\n",
       "      <td>0.010348</td>\n",
       "      <td>0.010438</td>\n",
       "      <td>0.010384</td>\n",
       "    </tr>\n",
       "    <tr>\n",
       "      <th>TCGA-UZ-A9PL</th>\n",
       "      <td>0.01183</td>\n",
       "      <td>0.012383</td>\n",
       "      <td>0.012383</td>\n",
       "      <td>0.013066</td>\n",
       "      <td>0.012407</td>\n",
       "      <td>0.012407</td>\n",
       "      <td>0.013058</td>\n",
       "      <td>0.012407</td>\n",
       "      <td>0.013788</td>\n",
       "      <td>0.012383</td>\n",
       "      <td>...</td>\n",
       "      <td>0.010722</td>\n",
       "      <td>0.010462</td>\n",
       "      <td>0.010461</td>\n",
       "      <td>0.010827</td>\n",
       "      <td>0.010565</td>\n",
       "      <td>0.011373</td>\n",
       "      <td>0.010574</td>\n",
       "      <td>0.010360</td>\n",
       "      <td>0.010462</td>\n",
       "      <td>0.010410</td>\n",
       "    </tr>\n",
       "    <tr>\n",
       "      <th>TCGA-MH-A854</th>\n",
       "      <td>0.01183</td>\n",
       "      <td>0.012383</td>\n",
       "      <td>0.012383</td>\n",
       "      <td>0.013066</td>\n",
       "      <td>0.012407</td>\n",
       "      <td>0.012407</td>\n",
       "      <td>0.013058</td>\n",
       "      <td>0.012407</td>\n",
       "      <td>0.013788</td>\n",
       "      <td>0.012383</td>\n",
       "      <td>...</td>\n",
       "      <td>0.010714</td>\n",
       "      <td>0.010472</td>\n",
       "      <td>0.010472</td>\n",
       "      <td>0.010821</td>\n",
       "      <td>0.010572</td>\n",
       "      <td>0.011906</td>\n",
       "      <td>0.010585</td>\n",
       "      <td>0.010373</td>\n",
       "      <td>0.010469</td>\n",
       "      <td>0.010404</td>\n",
       "    </tr>\n",
       "    <tr>\n",
       "      <th>TCGA-HE-7129</th>\n",
       "      <td>0.01183</td>\n",
       "      <td>0.012383</td>\n",
       "      <td>0.012383</td>\n",
       "      <td>0.013066</td>\n",
       "      <td>0.012407</td>\n",
       "      <td>0.012407</td>\n",
       "      <td>0.013058</td>\n",
       "      <td>0.012407</td>\n",
       "      <td>0.013788</td>\n",
       "      <td>0.012383</td>\n",
       "      <td>...</td>\n",
       "      <td>0.010646</td>\n",
       "      <td>0.010415</td>\n",
       "      <td>0.010444</td>\n",
       "      <td>0.010775</td>\n",
       "      <td>0.010552</td>\n",
       "      <td>0.011373</td>\n",
       "      <td>0.010557</td>\n",
       "      <td>0.010344</td>\n",
       "      <td>0.010433</td>\n",
       "      <td>0.010373</td>\n",
       "    </tr>\n",
       "    <tr>\n",
       "      <th>TCGA-BQ-5884</th>\n",
       "      <td>0.01183</td>\n",
       "      <td>0.012383</td>\n",
       "      <td>0.012383</td>\n",
       "      <td>0.013066</td>\n",
       "      <td>0.012407</td>\n",
       "      <td>0.012407</td>\n",
       "      <td>0.013058</td>\n",
       "      <td>0.012407</td>\n",
       "      <td>0.013788</td>\n",
       "      <td>0.012383</td>\n",
       "      <td>...</td>\n",
       "      <td>0.010648</td>\n",
       "      <td>0.010416</td>\n",
       "      <td>0.010447</td>\n",
       "      <td>0.010775</td>\n",
       "      <td>0.010553</td>\n",
       "      <td>0.011373</td>\n",
       "      <td>0.010558</td>\n",
       "      <td>0.010346</td>\n",
       "      <td>0.010434</td>\n",
       "      <td>0.010382</td>\n",
       "    </tr>\n",
       "  </tbody>\n",
       "</table>\n",
       "<p>251 rows × 2291 columns</p>\n",
       "</div>"
      ],
      "text/plain": [
       "                HSPA2      RPN1       GK2     HSPA6    PPP3R1      DLG1  \\\n",
       "TCGA-B9-A8YI  0.01183  0.012383  0.012383  0.013066  0.012407  0.012407   \n",
       "TCGA-UZ-A9PK  0.01183  0.012383  0.012383  0.013066  0.012407  0.012407   \n",
       "TCGA-Y8-A897  0.01183  0.012383  0.012383  0.013066  0.012407  0.012407   \n",
       "TCGA-2Z-A9J3  0.01183  0.012383  0.012383  0.013066  0.012407  0.012407   \n",
       "TCGA-UZ-A9PN  0.01183  0.012383  0.012383  0.013066  0.012407  0.012407   \n",
       "...               ...       ...       ...       ...       ...       ...   \n",
       "TCGA-BQ-7053  0.01183  0.012383  0.012383  0.013066  0.012407  0.012407   \n",
       "TCGA-UZ-A9PL  0.01183  0.012383  0.012383  0.013066  0.012407  0.012407   \n",
       "TCGA-MH-A854  0.01183  0.012383  0.012383  0.013066  0.012407  0.012407   \n",
       "TCGA-HE-7129  0.01183  0.012383  0.012383  0.013066  0.012407  0.012407   \n",
       "TCGA-BQ-5884  0.01183  0.012383  0.012383  0.013066  0.012407  0.012407   \n",
       "\n",
       "                 YWHAH  HIST1H4I     HSPA8     PCSK6  ...  JMJD7-PLA2G4B  \\\n",
       "TCGA-B9-A8YI  0.013058  0.012407  0.013788  0.012383  ...       0.010676   \n",
       "TCGA-UZ-A9PK  0.013058  0.012407  0.013788  0.012383  ...       0.010735   \n",
       "TCGA-Y8-A897  0.013058  0.012407  0.013788  0.012383  ...       0.010654   \n",
       "TCGA-2Z-A9J3  0.013058  0.012407  0.013788  0.012383  ...       0.010684   \n",
       "TCGA-UZ-A9PN  0.013058  0.012407  0.013788  0.012383  ...       0.010667   \n",
       "...                ...       ...       ...       ...  ...            ...   \n",
       "TCGA-BQ-7053  0.013058  0.012407  0.013788  0.012383  ...       0.010662   \n",
       "TCGA-UZ-A9PL  0.013058  0.012407  0.013788  0.012383  ...       0.010722   \n",
       "TCGA-MH-A854  0.013058  0.012407  0.013788  0.012383  ...       0.010714   \n",
       "TCGA-HE-7129  0.013058  0.012407  0.013788  0.012383  ...       0.010646   \n",
       "TCGA-BQ-5884  0.013058  0.012407  0.013788  0.012383  ...       0.010648   \n",
       "\n",
       "                MALAT1     REG3G    NUTM2A       TRB       IGL      HES3  \\\n",
       "TCGA-B9-A8YI  0.010430  0.010462  0.010775  0.010567  0.011374  0.010571   \n",
       "TCGA-UZ-A9PK  0.010464  0.010471  0.010823  0.010563  0.011373  0.010591   \n",
       "TCGA-Y8-A897  0.010418  0.010449  0.010775  0.010555  0.011378  0.010557   \n",
       "TCGA-2Z-A9J3  0.010432  0.010461  0.010803  0.010564  0.011374  0.010593   \n",
       "TCGA-UZ-A9PN  0.010423  0.010454  0.010785  0.010562  0.011373  0.010568   \n",
       "...                ...       ...       ...       ...       ...       ...   \n",
       "TCGA-BQ-7053  0.010423  0.010450  0.010786  0.010556  0.011376  0.010561   \n",
       "TCGA-UZ-A9PL  0.010462  0.010461  0.010827  0.010565  0.011373  0.010574   \n",
       "TCGA-MH-A854  0.010472  0.010472  0.010821  0.010572  0.011906  0.010585   \n",
       "TCGA-HE-7129  0.010415  0.010444  0.010775  0.010552  0.011373  0.010557   \n",
       "TCGA-BQ-5884  0.010416  0.010447  0.010775  0.010553  0.011373  0.010558   \n",
       "\n",
       "                 CCL15    CCL4L2    SCUBE1  \n",
       "TCGA-B9-A8YI  0.010365  0.010454  0.010388  \n",
       "TCGA-UZ-A9PK  0.010367  0.010478  0.010424  \n",
       "TCGA-Y8-A897  0.010351  0.010437  0.010378  \n",
       "TCGA-2Z-A9J3  0.010359  0.010452  0.010400  \n",
       "TCGA-UZ-A9PN  0.010351  0.010446  0.010387  \n",
       "...                ...       ...       ...  \n",
       "TCGA-BQ-7053  0.010348  0.010438  0.010384  \n",
       "TCGA-UZ-A9PL  0.010360  0.010462  0.010410  \n",
       "TCGA-MH-A854  0.010373  0.010469  0.010404  \n",
       "TCGA-HE-7129  0.010344  0.010433  0.010373  \n",
       "TCGA-BQ-5884  0.010346  0.010434  0.010382  \n",
       "\n",
       "[251 rows x 2291 columns]"
      ]
     },
     "execution_count": 26,
     "metadata": {},
     "output_type": "execute_result"
    }
   ],
   "source": [
    "final_df"
   ]
  },
  {
   "cell_type": "code",
   "execution_count": 27,
   "id": "5b6f46fd-7838-48c1-a969-fec931a5099f",
   "metadata": {},
   "outputs": [
    {
     "name": "stdout",
     "output_type": "stream",
     "text": [
      "Sun Nov 13 00:56:35 2022       \n",
      "+-----------------------------------------------------------------------------+\n",
      "| NVIDIA-SMI 510.85.02    Driver Version: 510.85.02    CUDA Version: 11.6     |\n",
      "|-------------------------------+----------------------+----------------------+\n",
      "| GPU  Name        Persistence-M| Bus-Id        Disp.A | Volatile Uncorr. ECC |\n",
      "| Fan  Temp  Perf  Pwr:Usage/Cap|         Memory-Usage | GPU-Util  Compute M. |\n",
      "|                               |                      |               MIG M. |\n",
      "|===============================+======================+======================|\n",
      "|   0  NVIDIA GeForce ...  Off  | 00000000:02:00.0 Off |                  N/A |\n",
      "| 36%   31C    P8    21W / 250W |      3MiB / 11264MiB |      0%      Default |\n",
      "|                               |                      |                  N/A |\n",
      "+-------------------------------+----------------------+----------------------+\n",
      "|   1  NVIDIA GeForce ...  Off  | 00000000:82:00.0 Off |                  N/A |\n",
      "| 40%   40C    P2    75W / 250W |   3322MiB / 11264MiB |     55%      Default |\n",
      "|                               |                      |                  N/A |\n",
      "+-------------------------------+----------------------+----------------------+\n",
      "                                                                               \n",
      "+-----------------------------------------------------------------------------+\n",
      "| Processes:                                                                  |\n",
      "|  GPU   GI   CI        PID   Type   Process name                  GPU Memory |\n",
      "|        ID   ID                                                   Usage      |\n",
      "|=============================================================================|\n",
      "|    1   N/A  N/A     21987      C   ...a3/envs/pyg/bin/python3.9     3319MiB |\n",
      "+-----------------------------------------------------------------------------+\n"
     ]
    }
   ],
   "source": [
    "!nvidia-smi"
   ]
  },
  {
   "cell_type": "code",
   "execution_count": 28,
   "id": "b89c8046-a723-4b49-9ade-5d77219a096c",
   "metadata": {},
   "outputs": [],
   "source": [
    "# wandb.finish()"
   ]
  },
  {
   "cell_type": "code",
   "execution_count": null,
   "id": "e813f5e4-4acb-4b02-9d11-e5f584c2d171",
   "metadata": {},
   "outputs": [],
   "source": []
  },
  {
   "cell_type": "code",
   "execution_count": null,
   "id": "dac1fbab-bd67-4247-a1bc-cf86ab4866c0",
   "metadata": {},
   "outputs": [],
   "source": []
  }
 ],
 "metadata": {
  "kernelspec": {
   "display_name": "Python 3 (ipykernel)",
   "language": "python",
   "name": "python3"
  },
  "language_info": {
   "codemirror_mode": {
    "name": "ipython",
    "version": 3
   },
   "file_extension": ".py",
   "mimetype": "text/x-python",
   "name": "python",
   "nbconvert_exporter": "python",
   "pygments_lexer": "ipython3",
   "version": "3.9.13"
  }
 },
 "nbformat": 4,
 "nbformat_minor": 5
}
