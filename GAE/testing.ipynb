{
 "cells": [
  {
   "cell_type": "code",
   "execution_count": 58,
   "id": "a8081866-6915-4e3f-a62f-e1f75a2a5c35",
   "metadata": {},
   "outputs": [],
   "source": [
    "from data_processing.process_data import *\n",
    "from utils import *"
   ]
  },
  {
   "cell_type": "code",
   "execution_count": 59,
   "id": "b1e42adb-6670-4efa-bfbe-7b0fb7c26250",
   "metadata": {},
   "outputs": [],
   "source": [
    "import torch\n",
    "import os\n",
    "from torch_geometric.data import Data\n",
    "import pandas as pd\n",
    "import numpy as np\n",
    "from torchvision.transforms import ToTensor\n",
    "from torch_geometric.loader import DataLoader\n",
    "from tqdm.auto import trange, tqdm\n",
    "from torch_geometric import seed_everything\n",
    "import torchvision\n",
    "import torch_geometric.nn as gnn"
   ]
  },
  {
   "cell_type": "code",
   "execution_count": 60,
   "id": "240010f8-67b8-4fbe-bd7a-9416376c097e",
   "metadata": {},
   "outputs": [],
   "source": [
    "omics_file = \"../data/raw/sm/kirp_sm251_csn.csv\"\n",
    "network_file = \"../data/network/CancerSubnetwork.txt\"\n",
    "data2  = \"../data/netprop/sm/kirp_sm251_csn_propagated.csv\""
   ]
  },
  {
   "cell_type": "code",
   "execution_count": 61,
   "id": "6ff97973-538d-4e34-b6e2-51b6dd547e5a",
   "metadata": {},
   "outputs": [
    {
     "name": "stdout",
     "output_type": "stream",
     "text": [
      "Loading the Network :  ../data/network/CancerSubnetwork.txt\n"
     ]
    },
    {
     "name": "stderr",
     "output_type": "stream",
     "text": [
      "100%|██████████| 2291/2291 [00:01<00:00, 1877.68it/s]\n"
     ]
    },
    {
     "name": "stdout",
     "output_type": "stream",
     "text": [
      "Loaded the Network \n"
     ]
    }
   ],
   "source": [
    "data = SingleOmicData(network_file, omics_file, 1)\n",
    "num_nodes = len(data.node_order)"
   ]
  },
  {
   "cell_type": "code",
   "execution_count": 62,
   "id": "97eb3763-0933-43ab-b5fc-bdc4de261cb0",
   "metadata": {},
   "outputs": [],
   "source": [
    "model = gnn.GATv2Conv(1,1)"
   ]
  },
  {
   "cell_type": "code",
   "execution_count": 63,
   "id": "2ecdce40-0787-4df6-ab56-720aac98bce1",
   "metadata": {},
   "outputs": [
    {
     "data": {
      "text/plain": [
       "tensor([22.])"
      ]
     },
     "execution_count": 63,
     "metadata": {},
     "output_type": "execute_result"
    }
   ],
   "source": [
    "sum(data[0].x)"
   ]
  },
  {
   "cell_type": "code",
   "execution_count": 64,
   "id": "418073e5-43cc-4191-b20e-93a2463fd02c",
   "metadata": {},
   "outputs": [
    {
     "name": "stdout",
     "output_type": "stream",
     "text": [
      "tensor([1822.6707], grad_fn=<AddBackward0>)\n",
      "tensor([504.2202], grad_fn=<AddBackward0>)\n",
      "tensor([1476.8541], grad_fn=<AddBackward0>)\n"
     ]
    }
   ],
   "source": [
    "y = model(data[0].x, data[0].edge_index)\n",
    "print(sum(y))\n",
    "z = model(y, data[0].edge_index)\n",
    "print(sum(z))\n",
    "print(sum(model(z, data[0].edge_index)))"
   ]
  },
  {
   "cell_type": "code",
   "execution_count": 67,
   "id": "97d8d45d-42fe-43df-9844-d8f10f4943d3",
   "metadata": {},
   "outputs": [],
   "source": [
    "data2 = pd.read_csv(data2, index_col=0)"
   ]
  },
  {
   "cell_type": "code",
   "execution_count": 68,
   "id": "237ef323-c5b5-4343-a002-85c8db25508f",
   "metadata": {},
   "outputs": [
    {
     "data": {
      "text/plain": [
       "21.99999999999986"
      ]
     },
     "execution_count": 68,
     "metadata": {},
     "output_type": "execute_result"
    }
   ],
   "source": [
    "sum(data2.iloc[0,:])"
   ]
  },
  {
   "cell_type": "code",
   "execution_count": 69,
   "id": "9deb85bc-3fc9-494a-b359-b141265b88ab",
   "metadata": {},
   "outputs": [],
   "source": [
    "model2 = gnn.GravNetConv(1,1,4,3,2)"
   ]
  },
  {
   "cell_type": "code",
   "execution_count": 71,
   "id": "9fddcf4c-4523-4460-9851-920fc8999b09",
   "metadata": {},
   "outputs": [],
   "source": [
    "a = model2(data[0].x)"
   ]
  },
  {
   "cell_type": "code",
   "execution_count": 75,
   "id": "aaa3576c-c0b7-4e81-8fe1-361be373b342",
   "metadata": {},
   "outputs": [
    {
     "data": {
      "text/plain": [
       "torch.Size([2291, 1])"
      ]
     },
     "execution_count": 75,
     "metadata": {},
     "output_type": "execute_result"
    }
   ],
   "source": [
    "a.shape"
   ]
  },
  {
   "cell_type": "code",
   "execution_count": null,
   "id": "53b539f3-04d4-4be5-98a8-c024ea0ae657",
   "metadata": {},
   "outputs": [],
   "source": []
  }
 ],
 "metadata": {
  "kernelspec": {
   "display_name": "Python 3 (ipykernel)",
   "language": "python",
   "name": "python3"
  },
  "language_info": {
   "codemirror_mode": {
    "name": "ipython",
    "version": 3
   },
   "file_extension": ".py",
   "mimetype": "text/x-python",
   "name": "python",
   "nbconvert_exporter": "python",
   "pygments_lexer": "ipython3",
   "version": "3.9.13"
  }
 },
 "nbformat": 4,
 "nbformat_minor": 5
}
