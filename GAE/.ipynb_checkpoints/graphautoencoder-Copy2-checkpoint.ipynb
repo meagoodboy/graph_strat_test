{
 "cells": [
  {
   "cell_type": "code",
   "execution_count": 1,
   "id": "2f984aa3-6ca3-4c7e-b85c-7366b9a09629",
   "metadata": {},
   "outputs": [
    {
     "name": "stderr",
     "output_type": "stream",
     "text": [
      "/home2/aswin/miniconda3/envs/pyg/lib/python3.9/site-packages/tqdm/auto.py:22: TqdmWarning: IProgress not found. Please update jupyter and ipywidgets. See https://ipywidgets.readthedocs.io/en/stable/user_install.html\n",
      "  from .autonotebook import tqdm as notebook_tqdm\n"
     ]
    }
   ],
   "source": [
    "import torch\n",
    "import os\n",
    "from torch_geometric.data import Data\n",
    "import pandas as pd\n",
    "import numpy as np\n",
    "from torchvision.transforms import ToTensor\n",
    "from torch_geometric.loader import DataLoader\n",
    "from tqdm.auto import trange, tqdm\n",
    "from torch_geometric import seed_everything\n",
    "import torchvision"
   ]
  },
  {
   "cell_type": "code",
   "execution_count": 2,
   "id": "bade54a3-132f-41b4-8e56-5075cafcc3b2",
   "metadata": {},
   "outputs": [
    {
     "name": "stderr",
     "output_type": "stream",
     "text": [
      "\u001b[34m\u001b[1mwandb\u001b[0m: Currently logged in as: \u001b[33mmeagoodboy\u001b[0m (\u001b[33mitsagoodteam\u001b[0m). Use \u001b[1m`wandb login --relogin`\u001b[0m to force relogin\n"
     ]
    },
    {
     "data": {
      "text/plain": [
       "True"
      ]
     },
     "execution_count": 2,
     "metadata": {},
     "output_type": "execute_result"
    }
   ],
   "source": [
    "import wandb\n",
    "wandb.login()"
   ]
  },
  {
   "cell_type": "code",
   "execution_count": 2,
   "id": "bb54fb48-a3f2-40e3-9293-10d898ff8d5d",
   "metadata": {},
   "outputs": [],
   "source": [
    "from encoder_models import *\n",
    "from node_decoder_models import *\n",
    "from test_train_validate import *\n",
    "from data_processing.process_data import *\n",
    "from utils import *\n",
    "from wrappers import *"
   ]
  },
  {
   "cell_type": "code",
   "execution_count": 3,
   "id": "4407a58a-e1dd-45da-8fb6-1c41641ee862",
   "metadata": {},
   "outputs": [
    {
     "name": "stdout",
     "output_type": "stream",
     "text": [
      "cuda:0\n"
     ]
    }
   ],
   "source": [
    "device = torch.device(\"cuda:0\" if torch.cuda.is_available() else \"cpu\")\n",
    "print(device)"
   ]
  },
  {
   "cell_type": "code",
   "execution_count": 4,
   "id": "4d24ad78-7a80-44ff-b301-c1787f0677b6",
   "metadata": {},
   "outputs": [],
   "source": [
    "clear_cache()"
   ]
  },
  {
   "cell_type": "code",
   "execution_count": 5,
   "id": "9c4b9cac-ada8-4288-bbc4-65087ddfee5d",
   "metadata": {},
   "outputs": [],
   "source": [
    "seed_everything(36912)"
   ]
  },
  {
   "cell_type": "code",
   "execution_count": 6,
   "id": "b49af179-a441-490d-9787-fdd8cc0e7a60",
   "metadata": {},
   "outputs": [],
   "source": [
    "omics_file = \"../data/raw/sm/kirp_sm251_csn.csv\"\n",
    "network_file = \"../data/network/CancerSubnetwork.txt\"\n",
    "\n",
    "learning_rate = 3e-4\n",
    "num_features = 1\n",
    "out_channels = 1\n",
    "num_epochs = 1\n",
    "batch_size = 8\n",
    "alpha = 1\n",
    "beta = 0.5\n",
    "\n",
    "cancer = \"KIRP\"\n",
    "omic = \"SM\"\n",
    "gmodel = \"L2GravNetConv\"\n",
    "optim = \"ADAM\"\n",
    "\n",
    "savefolder = \"./new_res/\" + cancer + \"/\" + omic + \"/\" + gmodel + \"/\" +  optim + \"_\" + str(learning_rate) +\"/\"\n",
    "savemodels = \"./new_mod/\" + cancer + \"/\" + omic + \"/\" + gmodel + \"/\" + optim + \"_\" +  str(learning_rate) +\"/\"\n",
    "savename = cancer + \"_\" + omic + \"_\" + gmodel + \"_\" + optim + \"_\" + str(learning_rate) +\"_\"\n",
    "\n",
    "savename = savemodels + savename \n",
    "summaryin = savemodels + \"runs\"\n",
    "bestmodel = savename + \"bestmodel.pt\"\n",
    "finalmodel = savename + \"model.pt\" \n",
    "configf = savename + \"config.yml\" \n",
    "fencsave = savefolder + \"final.csv\"\n",
    "bencsave = savefolder + \"best.csv\"\n",
    "\n",
    "if not os.path.exists(savefolder):\n",
    "    os.makedirs(savefolder)\n",
    "if not os.path.exists(savemodels):\n",
    "    os.makedirs(savemodels)"
   ]
  },
  {
   "cell_type": "code",
   "execution_count": 7,
   "id": "fc78d545-b445-47c5-a5a6-53538fd5af10",
   "metadata": {
    "tags": []
   },
   "outputs": [],
   "source": [
    "# wandb.init(project=\"TEST1_KIRP_GCNM2\")\n",
    "\n",
    "# cfg = wandb.config\n",
    "# cfg.update({\"epochs\" : num_epochs, \"batch_size\": batch_size, \"lr\" : learning_rate,\"optim\" : optim,\"data_type\" : omic , \"cancer\" : cancer,\"save\":savefolder,\"model_type\":gmodel})"
   ]
  },
  {
   "cell_type": "code",
   "execution_count": 8,
   "id": "4a9e2704-2bc6-46cf-8c38-038878448523",
   "metadata": {},
   "outputs": [
    {
     "name": "stdout",
     "output_type": "stream",
     "text": [
      "Loading the Network :  ../data/network/CancerSubnetwork.txt\n"
     ]
    },
    {
     "name": "stderr",
     "output_type": "stream",
     "text": [
      "100%|██████████| 2291/2291 [00:00<00:00, 2331.89it/s]\n"
     ]
    },
    {
     "name": "stdout",
     "output_type": "stream",
     "text": [
      "Loaded the Network \n"
     ]
    }
   ],
   "source": [
    "data = SingleOmicData(network_file, omics_file, 1)\n",
    "num_nodes = len(data.node_order)"
   ]
  },
  {
   "cell_type": "code",
   "execution_count": 11,
   "id": "e1ac4065-5b98-45da-865b-3572da1e7ea7",
   "metadata": {},
   "outputs": [],
   "source": [
    "train_size = int(0.8 * len(data))\n",
    "x,y = torch.utils.data.random_split(data, lengths=[train_size, len(data) - train_size], generator=torch.Generator())"
   ]
  },
  {
   "cell_type": "code",
   "execution_count": 12,
   "id": "12d1b118-a797-4f5b-94dd-10190c0a6276",
   "metadata": {},
   "outputs": [],
   "source": [
    "train_loader = DataLoader(x, shuffle=True, batch_size=batch_size,num_workers=8)\n",
    "val_loader = DataLoader(y, shuffle=True, batch_size=batch_size, num_workers=8)\n",
    "encode_loader = DataLoader(data, shuffle=False, batch_size=1)"
   ]
  },
  {
   "cell_type": "code",
   "execution_count": 9,
   "id": "baba217c-e488-4678-a876-4bd0ff82dbeb",
   "metadata": {},
   "outputs": [],
   "source": [
    "model = GAEM( encoder = get_encoder(gmodel,in_channels = num_features, out_channels = out_channels),\n",
    "             node_decoder = L2Linear(out_channels = out_channels, num_nodes = num_nodes, batch_size=batch_size) )"
   ]
  },
  {
   "cell_type": "code",
   "execution_count": 13,
   "id": "6a539002-5486-4d0e-857a-3d151da9c10d",
   "metadata": {},
   "outputs": [],
   "source": [
    "model = model.to(device)"
   ]
  },
  {
   "cell_type": "code",
   "execution_count": 14,
   "id": "520382f7-5c04-4505-aca4-4bae77260123",
   "metadata": {},
   "outputs": [
    {
     "name": "stdout",
     "output_type": "stream",
     "text": [
      "Sat Nov 12 22:19:15 2022       \n",
      "+-----------------------------------------------------------------------------+\n",
      "| NVIDIA-SMI 510.85.02    Driver Version: 510.85.02    CUDA Version: 11.6     |\n",
      "|-------------------------------+----------------------+----------------------+\n",
      "| GPU  Name        Persistence-M| Bus-Id        Disp.A | Volatile Uncorr. ECC |\n",
      "| Fan  Temp  Perf  Pwr:Usage/Cap|         Memory-Usage | GPU-Util  Compute M. |\n",
      "|                               |                      |               MIG M. |\n",
      "|===============================+======================+======================|\n",
      "|   0  NVIDIA GeForce ...  Off  | 00000000:02:00.0 Off |                  N/A |\n",
      "| 36%   34C    P2    54W / 250W |   1364MiB / 11264MiB |      1%      Default |\n",
      "|                               |                      |                  N/A |\n",
      "+-------------------------------+----------------------+----------------------+\n",
      "|   1  NVIDIA GeForce ...  Off  | 00000000:82:00.0 Off |                  N/A |\n",
      "| 37%   27C    P8     9W / 250W |      3MiB / 11264MiB |      0%      Default |\n",
      "|                               |                      |                  N/A |\n",
      "+-------------------------------+----------------------+----------------------+\n",
      "                                                                               \n",
      "+-----------------------------------------------------------------------------+\n",
      "| Processes:                                                                  |\n",
      "|  GPU   GI   CI        PID   Type   Process name                  GPU Memory |\n",
      "|        ID   ID                                                   Usage      |\n",
      "|=============================================================================|\n",
      "|    0   N/A  N/A     25805      C   ...a3/envs/pyg/bin/python3.9     1361MiB |\n",
      "+-----------------------------------------------------------------------------+\n"
     ]
    }
   ],
   "source": [
    "!nvidia-smi"
   ]
  },
  {
   "cell_type": "code",
   "execution_count": 15,
   "id": "f51b5d8c-7b26-434b-8492-a80e0c0c324f",
   "metadata": {},
   "outputs": [
    {
     "name": "stdout",
     "output_type": "stream",
     "text": [
      "total parameters in the model :  10511827\n",
      "total parameters in the encoder :  5301\n",
      "total parameters in the node_decoder :  10506526\n",
      "total parameters in the decoder :  0\n"
     ]
    }
   ],
   "source": [
    "print(\"total parameters in the model : \", calculate_num_params(model))\n",
    "print(\"total parameters in the encoder : \", calculate_num_params(model.encoder))\n",
    "print(\"total parameters in the node_decoder : \", calculate_num_params(model.node_decoder))\n",
    "print(\"total parameters in the decoder : \", calculate_num_params(model.decoder))"
   ]
  },
  {
   "cell_type": "code",
   "execution_count": 16,
   "id": "070459dc-4bb2-495b-8fb1-09ed25d2ff6f",
   "metadata": {},
   "outputs": [
    {
     "data": {
      "text/plain": [
       "GAEM(\n",
       "  (encoder): L3GCNConv(\n",
       "    (conv1): GCNConv(1, 100)\n",
       "    (conv2): GCNConv(100, 50)\n",
       "    (conv3): GCNConv(50, 1)\n",
       "    (drop): Dropout(p=0.1, inplace=False)\n",
       "  )\n",
       "  (node_decoder): L2Linear(\n",
       "    (feat_lin): Sequential(\n",
       "      (0): Linear(in_features=2291, out_features=2291, bias=True)\n",
       "      (1): BatchNorm1d(2291, eps=1e-05, momentum=0.1, affine=True, track_running_stats=True)\n",
       "      (2): ReLU()\n",
       "      (3): Linear(in_features=2291, out_features=2291, bias=True)\n",
       "    )\n",
       "  )\n",
       "  (decoder): InnerProductDecoder()\n",
       ")"
      ]
     },
     "execution_count": 16,
     "metadata": {},
     "output_type": "execute_result"
    }
   ],
   "source": [
    "model"
   ]
  },
  {
   "cell_type": "code",
   "execution_count": 17,
   "id": "30bc1733-91d9-4739-a8bb-63fb44fc4427",
   "metadata": {},
   "outputs": [],
   "source": [
    "optimizer = torch.optim.Adam(model.parameters(), lr=learning_rate)"
   ]
  },
  {
   "cell_type": "code",
   "execution_count": 18,
   "id": "372c5cc0-a73c-4438-b078-370d64ea4939",
   "metadata": {},
   "outputs": [],
   "source": [
    "lossfn = torchvision.ops.focal_loss.sigmoid_focal_loss"
   ]
  },
  {
   "cell_type": "code",
   "execution_count": null,
   "id": "6dc0db75-8421-4e02-bdb5-a5a6806a7e6e",
   "metadata": {},
   "outputs": [
    {
     "name": "stdout",
     "output_type": "stream",
     "text": [
      "Epoch :  1  /  50\n"
     ]
    },
    {
     "name": "stderr",
     "output_type": "stream",
     "text": [
      " 76%|███████▌  | 19/25 [00:31<00:09,  1.55s/it]"
     ]
    }
   ],
   "source": [
    "all_val_loss = []\n",
    "for e in range(num_epochs):\n",
    "    \n",
    "    print(\"Epoch : \", e + 1,  \" / \" , num_epochs)\n",
    "    \n",
    "    train_loss = train(model,train_loader,optimizer, device,lossfn )\n",
    "    val_loss = validate(model,val_loader,device, lossfn)\n",
    "    all_val_loss.append(val_loss)\n",
    "    # wandb.log({\"validation loss\" : val_loss,\"train loss\" : train_loss})\n",
    "    \n",
    "    if e > 10:\n",
    "        if val_loss < min(all_val_loss):\n",
    "            torch.save(model.state_dict(), bestmodel)\n",
    "            print(\"Saved best model weights\")\n",
    "    \n",
    "    if (e+1) % 20 == 0:\n",
    "        print(\"Saving Model\")\n",
    "        torch.save(model.state_dict(), finalmodel)\n",
    "\n",
    "# wandb.finish()"
   ]
  },
  {
   "cell_type": "code",
   "execution_count": null,
   "id": "9123a933-73d7-40b1-8356-1b2c21ac8708",
   "metadata": {},
   "outputs": [],
   "source": [
    "final_vectors = encode(model,encode_loader,device)\n",
    "final_vectors = np.array(final_vectors).reshape(len(data.patients), -1)"
   ]
  },
  {
   "cell_type": "code",
   "execution_count": null,
   "id": "73bea1da-d37e-482b-8278-b23e7e1d15ef",
   "metadata": {},
   "outputs": [],
   "source": [
    "final_df = pd.DataFrame(final_vectors, index=data.patients, columns = data.node_order)\n",
    "# final_df.to_csv(fencsave)"
   ]
  },
  {
   "cell_type": "code",
   "execution_count": null,
   "id": "569d937b-b76c-4301-9ed6-3b8f78269401",
   "metadata": {},
   "outputs": [],
   "source": [
    "final_df"
   ]
  },
  {
   "cell_type": "code",
   "execution_count": null,
   "id": "5b6f46fd-7838-48c1-a969-fec931a5099f",
   "metadata": {},
   "outputs": [],
   "source": [
    "!nvidia-smi"
   ]
  },
  {
   "cell_type": "code",
   "execution_count": null,
   "id": "b89c8046-a723-4b49-9ade-5d77219a096c",
   "metadata": {},
   "outputs": [],
   "source": [
    "wandb.finish()"
   ]
  },
  {
   "cell_type": "code",
   "execution_count": null,
   "id": "e813f5e4-4acb-4b02-9d11-e5f584c2d171",
   "metadata": {},
   "outputs": [],
   "source": []
  }
 ],
 "metadata": {
  "kernelspec": {
   "display_name": "Python 3 (ipykernel)",
   "language": "python",
   "name": "python3"
  },
  "language_info": {
   "codemirror_mode": {
    "name": "ipython",
    "version": 3
   },
   "file_extension": ".py",
   "mimetype": "text/x-python",
   "name": "python",
   "nbconvert_exporter": "python",
   "pygments_lexer": "ipython3",
   "version": "3.9.13"
  }
 },
 "nbformat": 4,
 "nbformat_minor": 5
}
